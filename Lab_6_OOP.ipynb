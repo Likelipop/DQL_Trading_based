{
  "cells": [
    {
      "cell_type": "markdown",
      "metadata": {
        "id": "view-in-github",
        "colab_type": "text"
      },
      "source": [
        "<a href=\"https://colab.research.google.com/github/Likelipop/Lab_Python_DS/blob/main/Lab_6_OOP.ipynb\" target=\"_parent\"><img src=\"https://colab.research.google.com/assets/colab-badge.svg\" alt=\"Open In Colab\"/></a>"
      ]
    },
    {
      "cell_type": "markdown",
      "id": "9905cd80-dd8b-4f1a-b26c-b44152c07ca6",
      "metadata": {
        "id": "9905cd80-dd8b-4f1a-b26c-b44152c07ca6"
      },
      "source": [
        "<h1 align=\"center\">5.4 Inheritance</h1>"
      ]
    },
    {
      "cell_type": "markdown",
      "id": "63c6e969-ad43-4428-a4a6-155e4f77d03a",
      "metadata": {
        "id": "63c6e969-ad43-4428-a4a6-155e4f77d03a"
      },
      "source": [
        "#### Base Classes and Subclasses"
      ]
    },
    {
      "cell_type": "markdown",
      "id": "5965b959-d24b-4943-b35d-9e3ccb74c05c",
      "metadata": {
        "id": "5965b959-d24b-4943-b35d-9e3ccb74c05c"
      },
      "source": [
        "Often, an object of one class _is an_ object of another class as well.\n",
        "\n",
        "For example, a CarLoan _is a_ Loan. Class CarLoan can be said to\n",
        "inherit from class Loan.\n",
        "\n",
        "In this context, class Loan is a base class, and class CarLoan is a subclass. A CarLoan _is a_ specific type of Loan, but it’s incorrect to claim that every Loan is a CarLoan."
      ]
    },
    {
      "cell_type": "markdown",
      "id": "acfc1d89-465d-4fd0-b112-a74620490175",
      "metadata": {
        "id": "acfc1d89-465d-4fd0-b112-a74620490175"
      },
      "source": [
        "![5.4 Fig 1.png](attachment:08081dde-e266-4789-a450-5a8bb31cf171.png)"
      ]
    },
    {
      "cell_type": "markdown",
      "id": "2336f245-def4-4b91-bc2e-2b64cee6dcce",
      "metadata": {
        "id": "2336f245-def4-4b91-bc2e-2b64cee6dcce"
      },
      "source": [
        "Because every subclass object is an object of its base class, and one base class can have many subclasses, the set of objects represented by a base class is often larger than the set of objects represented by any of its subclasses.\n",
        "\n",
        "For example, the base class Vehicle represents all vehicles, including cars, trucks, boats, bicycles and so on. By contrast, subclass Car represents a smaller, more specific subset of vehicles."
      ]
    },
    {
      "cell_type": "markdown",
      "id": "232d43c8-0cb7-48b7-9957-dbc3eb516dc8",
      "metadata": {
        "id": "232d43c8-0cb7-48b7-9957-dbc3eb516dc8"
      },
      "source": [
        "#### Inheritance Hierarchy\n",
        "\n",
        "Inheritance relationships form tree-like hierarchical structures. A base class exists in a hierarchical relationship with its subclasses."
      ]
    },
    {
      "cell_type": "markdown",
      "id": "84bb71eb-b480-401d-80fc-dde7cda17bb3",
      "metadata": {
        "id": "84bb71eb-b480-401d-80fc-dde7cda17bb3"
      },
      "source": [
        "![5.4 Fig 2.png](attachment:4ca1b02a-944c-42c1-b198-bc53e60f9cbc.png)"
      ]
    },
    {
      "cell_type": "markdown",
      "id": "31dc67af-a8fb-4764-8a27-7e2776a0c70a",
      "metadata": {
        "id": "31dc67af-a8fb-4764-8a27-7e2776a0c70a"
      },
      "source": [
        "With single inheritance, a class is derived from one base class. With multiple inheritance, a subclass inherits from two or more base classes.\n",
        "\n",
        "Each arrow in the hierarchy represents an _is-a_ relationship. As we follow the arrows upward in this class hierarchy, we can state, for example, that “an Employee is a CommunityMember” and “a Teacher is a Faculty member.”\n",
        "\n",
        "CommunityMember is the direct base class of Employee, Student and Alum and is an indirect base class of all the other classes in the diagram.\n",
        "\n",
        "Starting from the bottom, you can follow the arrows and apply the is-a\n",
        "relationship up to the topmost superclass. For example, Administrator is a Faculty member, is an Employee, is a CommunityMember and, of course, ultimately is an object."
      ]
    },
    {
      "cell_type": "markdown",
      "id": "feb4866e-0bc8-4ce7-aa06-390fb439c022",
      "metadata": {
        "id": "feb4866e-0bc8-4ce7-aa06-390fb439c022"
      },
      "source": [
        "#### “is a” vs. “has a”"
      ]
    },
    {
      "cell_type": "markdown",
      "id": "9927e5b6-d70e-4d4a-8ad8-5a4185d7e2bf",
      "metadata": {
        "id": "9927e5b6-d70e-4d4a-8ad8-5a4185d7e2bf"
      },
      "source": [
        "Inheritance produces __“is-a” relationships__ in which an object of a subclass type may also be treated as an object of the base-class type.\n",
        "\n",
        "You’ve also seen “has-a” (composition) relationships in which a class has references to one or more objects of other classes as members."
      ]
    },
    {
      "cell_type": "markdown",
      "id": "ba29f298-2a54-42eb-adb5-077dc8db1341",
      "metadata": {
        "id": "ba29f298-2a54-42eb-adb5-077dc8db1341"
      },
      "source": [
        "#### Building an Inheritance Hierarchy; Introducing Polymorphism\n",
        "\n",
        "Let’s use a hierarchy containing types of employees in a company’s payroll app to discuss the relationship between a base class and its subclass. All employees of the company have a lot in common, but commission employees (who will be represented as objects of a base class) are paid a percentage of their sales, while salaried commission employees (who will be represented as objects of a subclass) receive a percentage of their sales plus a base salary.\n",
        "\n",
        "First, we present base class CommissionEmployee. Next, we create a subclass SalariedCommissionEmployee that inherits from class CommissionEmployee. Then, we create a SalariedCommissionEmployee object and demonstrate that it has all the capabilities of the base class and the subclass, but calculates its earnings differently."
      ]
    },
    {
      "cell_type": "markdown",
      "id": "705d1e32-5d94-4e3f-86b5-cc264943d915",
      "metadata": {
        "id": "705d1e32-5d94-4e3f-86b5-cc264943d915"
      },
      "source": [
        "#### Base Class CommissionEmployee\n",
        "\n",
        "Consider class CommissionEmployee, which provides the following features:\n",
        "\n",
        "- Method __init__, which creates the data attributes _first_name, _last_name and _ssn (Social Security number), and uses the setters of properties gross_sales and commission_rate to create their corresponding data attributes.\n",
        "\n",
        "- Read-only properties first_name, last_name and ssn, which return the corresponding data attributes.\n",
        "\n",
        "- Read-write properties gross_sales and commission_rate, in which the setters perform data validation.\n",
        "\n",
        "- Method earnings, which calculates and returns a CommissionEmployee’s earnings.\n",
        "\n",
        "- Method __repr__, which returns a string representation of a CommissionEmployee.Base Class CommissionEmployee"
      ]
    },
    {
      "cell_type": "code",
      "execution_count": 31,
      "id": "106df5aa-8bf8-4e94-8ccf-f6f7c9cb8cf7",
      "metadata": {
        "id": "106df5aa-8bf8-4e94-8ccf-f6f7c9cb8cf7"
      },
      "outputs": [],
      "source": [
        "from decimal import Decimal\n",
        "\n",
        "class CommissionEmployee:\n",
        "    \"\"\"An employee who gets paid commission based on gross sales.\"\"\"\n",
        "\n",
        "    def __init__(self, first_name, last_name, ssn, gross_sales, commission_rate):\n",
        "        \"\"\"Initialize CommissionEmployee's attributes.\"\"\"\n",
        "        self._first_name = first_name\n",
        "        self._last_name = last_name\n",
        "        self._ssn = ssn\n",
        "        self.gross_sales = gross_sales # validate via property\n",
        "        self.commission_rate = commission_rate # validate via property\n",
        "\n",
        "    @property\n",
        "    def gross_sales(self):\n",
        "        return self._gross_sales\n",
        "\n",
        "    @property\n",
        "    def commission_rate(self):\n",
        "      return self.commission_rate\n",
        "\n",
        "    @gross_sales.setter\n",
        "    def gross_sales(self, sales):\n",
        "        \"\"\"Set gross sales or raise ValueError if invalid.\"\"\"\n",
        "        if sales < Decimal('0.00'):\n",
        "            raise ValueError('Gross sales must be >= to 0')\n",
        "        self._gross_sales = sales\n",
        "\n",
        "    @commission_rate.setter\n",
        "    def commission_rate(self, rate):\n",
        "        \"\"\"Set commission rate or raise ValueError if invalid.\"\"\"\n",
        "        if (Decimal('0.00') > rate):\n",
        "          raise ValueError('Invalid commission rate')\n",
        "        self.commission_rate = rate\n",
        "\n",
        "    def earnings(self):\n",
        "        \"\"\"Calculate earnings.\"\"\"\n",
        "        return self.gross_sales * self.commission_rate\n",
        "\n",
        "    def __repr__(self):\n",
        "        \"\"\"Return string representation for repr().\"\"\"\n",
        "        return (f'{\"CommissionEmployee\":<25}: ' +\n",
        "            f'{self._first_name} {self._last_name}\\n' +\n",
        "            f'{\"Social security number\":<25}: {self._ssn}\\n' +\n",
        "            f'{\"Gross sales\":<25}: {self.gross_sales:,.2f}\\n' +\n",
        "            f'{\"Commission rate\":<25}: {self.commission_rate:.2f}')"
      ]
    },
    {
      "cell_type": "markdown",
      "id": "af83f4f8-2ff9-4890-b432-2a6d4c542434",
      "metadata": {
        "id": "af83f4f8-2ff9-4890-b432-2a6d4c542434"
      },
      "source": [
        "#### Testing Class CommissionEmployee"
      ]
    },
    {
      "cell_type": "markdown",
      "id": "c45a1eba-5f99-4730-bd43-642c309d01d4",
      "metadata": {
        "id": "c45a1eba-5f99-4730-bd43-642c309d01d4"
      },
      "source": [
        "First, create and display a Com- missionEmployee:"
      ]
    },
    {
      "cell_type": "code",
      "execution_count": 13,
      "id": "efbc10b6-e064-44f2-80d2-74b4b205062d",
      "metadata": {
        "id": "efbc10b6-e064-44f2-80d2-74b4b205062d"
      },
      "outputs": [],
      "source": [
        "from decimal import Decimal"
      ]
    },
    {
      "cell_type": "code",
      "execution_count": null,
      "id": "9c8d9ea7-885e-4d2b-aaab-8d1dd54cd087",
      "metadata": {
        "id": "9c8d9ea7-885e-4d2b-aaab-8d1dd54cd087"
      },
      "outputs": [],
      "source": [
        "c = CommissionEmployee('Sue', 'Jones', '333-33-3333', Decimal('10000.00'), Decimal('0.06'))\n",
        "c"
      ]
    },
    {
      "cell_type": "markdown",
      "id": "33281ff0-b7e4-4208-9bda-25bdfe2d13bd",
      "metadata": {
        "id": "33281ff0-b7e4-4208-9bda-25bdfe2d13bd"
      },
      "source": [
        "Let’s calculate and display the CommissionEmployee’s earnings:"
      ]
    },
    {
      "cell_type": "code",
      "execution_count": 19,
      "id": "90a18572-400a-4198-a69f-1a245e0394be",
      "metadata": {
        "colab": {
          "base_uri": "https://localhost:8080/"
        },
        "id": "90a18572-400a-4198-a69f-1a245e0394be",
        "outputId": "0bb50cbd-4b7c-4baf-f9f8-eb685a6bd398"
      },
      "outputs": [
        {
          "output_type": "stream",
          "name": "stdout",
          "text": [
            "600.00\n"
          ]
        }
      ],
      "source": [
        "print(f'{c.earnings():,.2f}')"
      ]
    },
    {
      "cell_type": "markdown",
      "id": "a85e0c10-4a43-49dc-bae7-f29373f38f45",
      "metadata": {
        "id": "a85e0c10-4a43-49dc-bae7-f29373f38f45"
      },
      "source": [
        "Let’s change the CommissionEmployee’s gross sales and commission rate, then recalculate the earnings:"
      ]
    },
    {
      "cell_type": "code",
      "execution_count": 20,
      "id": "9c87fddd-62d6-4642-be48-ab580a66482d",
      "metadata": {
        "colab": {
          "base_uri": "https://localhost:8080/"
        },
        "id": "9c87fddd-62d6-4642-be48-ab580a66482d",
        "outputId": "abc5b021-a8a0-4e57-a911-a893568169cb"
      },
      "outputs": [
        {
          "output_type": "stream",
          "name": "stdout",
          "text": [
            "2,000.00\n"
          ]
        }
      ],
      "source": [
        "c.gross_sales = Decimal('20000.00')\n",
        "c.commission_rate = Decimal('0.1')\n",
        "print(f'{c.earnings():,.2f}')"
      ]
    },
    {
      "cell_type": "markdown",
      "id": "faca862d-6b75-417d-b939-ba5b37cc2c9a",
      "metadata": {
        "id": "faca862d-6b75-417d-b939-ba5b37cc2c9a"
      },
      "source": [
        "#### All Classes Inherit Directly or Indirectly from Class object\n",
        "\n",
        "You use inheritance to create new classes from existing ones. In fact, _every_ Python class inherits from an existing class.\n",
        "\n",
        "When you do not explicitly specify the base class for a new class, Python assumes that the class inherits directly from class __object__. The Python class hierarchy begins with class object, the direct or indirect base class of every class.\n",
        "\n",
        "So, class CommissionEmployee’s header could have been written as\n",
        "\n",
        "<code>class CommissionEmployee(object):</code>"
      ]
    },
    {
      "cell_type": "markdown",
      "id": "658cf038-4a30-4af9-845c-ddbe704ac6a8",
      "metadata": {
        "id": "658cf038-4a30-4af9-845c-ddbe704ac6a8"
      },
      "source": [
        "Class CommissionEmployee inherits all the methods of class __object__. Class object does not have any data attributes.\n",
        "\n",
        "Two of the many methods inherited from object are __repr__ and __str__. So every class has these methods that return string representations of the objects on which they’re called.\n",
        "\n",
        "When a base-class method implementation is inappropriate for a derived class, that method can be overridden (i.e., redefined) in the derived\n",
        "class with an appropriate implementation."
      ]
    },
    {
      "cell_type": "markdown",
      "id": "daefa399-1d57-47e0-a2a6-3b8280d314b0",
      "metadata": {
        "id": "daefa399-1d57-47e0-a2a6-3b8280d314b0"
      },
      "source": [
        "#### Subclass SalariedCommissionEmployee\n",
        "\n",
        "Many of a SalariedCommissionEmployee’s capabilities are similar, if not identical, to those of class CommissionEmployee. Both types of employees have first name, last name, Social Security number, gross sales and commission rate data attributes, and properties and methods to manipulate that data.\n",
        "\n",
        "The new class includes a base salary data attribute, and the properties and methods that manipulate the base salary, including a new earnings method."
      ]
    },
    {
      "cell_type": "markdown",
      "id": "cee73749-d2aa-4bf9-87d1-87d8f98bab44",
      "metadata": {
        "id": "cee73749-d2aa-4bf9-87d1-87d8f98bab44"
      },
      "source": [
        "#### Declaring Class SalariedCommissionEmployee\n",
        "\n",
        "We now declare the subclass SalariedCommissionEmployee, which inherits most of its capabilities from class CommissionEmployee. A SalariedCommissionEmployee _is a_ CommissionEmployee, but class SalariedCommissionEmployee also has the following features:\n",
        "\n",
        "- Method __init__, which initializes all the data inherited from class\n",
        "CommissionEmployee, then uses the base_salary property’s setter to create a _base_salary data attribute.\n",
        "\n",
        "- Read-write property base_salary, in which the setter performs\n",
        "data validation.\n",
        "\n",
        "- A customized version of method earnings.\n",
        "\n",
        "- A customized version of method __repr__\n"
      ]
    },
    {
      "cell_type": "code",
      "execution_count": 23,
      "id": "b853c10a-b034-4e56-8051-d8bd0ce35abb",
      "metadata": {
        "id": "b853c10a-b034-4e56-8051-d8bd0ce35abb"
      },
      "outputs": [],
      "source": [
        "class SalariedCommissionEmployee(CommissionEmployee):\n",
        "    \"\"\"An employee who gets paid a salary plus commission based on gross sales.\"\"\"\n",
        "\n",
        "    def __init__(self, first_name, last_name, ssn, gross_sales, commission_rate, base_salary):\n",
        "        \"\"\"Initialize SalariedCommissionEmployee's attributes.\"\"\"\n",
        "        super().__init__(first_name, last_name, ssn, gross_sales, commission_rate)\n",
        "        self.base_salary = base_salary # validate via property\n",
        "\n",
        "    @property\n",
        "    def base_salary(self):\n",
        "        return self._base_salary\n",
        "\n",
        "    @base_salary.setter\n",
        "    def base_salary(self, salary):\n",
        "      if salary < Decimal('0.00'):\n",
        "        raise Exception(\"invalid salary\")\n",
        "\n",
        "      self._base_salary = salary\n",
        "\n",
        "    def earnings(self):\n",
        "        \"\"\"Calculate earnings.\"\"\"\n",
        "        return super().earnings() + self.base_salary"
      ]
    },
    {
      "cell_type": "markdown",
      "id": "edc67355-bde2-4220-8155-36018a9a57cf",
      "metadata": {
        "id": "edc67355-bde2-4220-8155-36018a9a57cf"
      },
      "source": [
        "#### Method __init__ and Built-In Function super\n",
        "\n",
        "Each subclass __init__ must explicitly call its base class’s __init__ to initialize the data attributes inherited from the base class. This call should be the first statement in the subclass’s __init__ method."
      ]
    },
    {
      "cell_type": "markdown",
      "id": "b00c2e3d-4db6-4378-b49a-489e01730f4d",
      "metadata": {
        "id": "b00c2e3d-4db6-4378-b49a-489e01730f4d"
      },
      "source": [
        "#### Testing Class SalariedCommissionEmployee\n"
      ]
    },
    {
      "cell_type": "code",
      "execution_count": 24,
      "id": "adc98777-882e-4d64-a5f6-7b68535a4f31",
      "metadata": {
        "colab": {
          "base_uri": "https://localhost:8080/"
        },
        "id": "adc98777-882e-4d64-a5f6-7b68535a4f31",
        "outputId": "f0354fd2-4ce4-4cae-a613-09e462e17188"
      },
      "outputs": [
        {
          "output_type": "execute_result",
          "data": {
            "text/plain": [
              "CommissionEmployee       : Bob Lewis\n",
              "Social security number   : 444-44-4444\n",
              "Gross sales              : 5,000.00\n",
              "Commission rate          : 0.04"
            ]
          },
          "metadata": {},
          "execution_count": 24
        }
      ],
      "source": [
        "s = SalariedCommissionEmployee('Bob', 'Lewis', '444-44-4444',\n",
        "Decimal('5000.00'), Decimal('0.04'), Decimal('300.00'))\n",
        "s"
      ]
    },
    {
      "cell_type": "code",
      "execution_count": 25,
      "id": "39448303-03dd-45f1-8e49-a4506b26b149",
      "metadata": {
        "tags": [],
        "colab": {
          "base_uri": "https://localhost:8080/"
        },
        "id": "39448303-03dd-45f1-8e49-a4506b26b149",
        "outputId": "21a0ce0b-5bdb-42b1-db99-7a8e1e8ccffc"
      },
      "outputs": [
        {
          "output_type": "stream",
          "name": "stdout",
          "text": [
            "500.00\n"
          ]
        }
      ],
      "source": [
        "print(f'{s.earnings():,.2f}')"
      ]
    },
    {
      "cell_type": "code",
      "execution_count": 26,
      "id": "513101c7-d433-4d9f-b2b2-39995689d932",
      "metadata": {
        "colab": {
          "base_uri": "https://localhost:8080/"
        },
        "id": "513101c7-d433-4d9f-b2b2-39995689d932",
        "outputId": "8bec2ddb-4307-48d9-f00a-ca54984c6bc1"
      },
      "outputs": [
        {
          "output_type": "execute_result",
          "data": {
            "text/plain": [
              "CommissionEmployee       : Bob Lewis\n",
              "Social security number   : 444-44-4444\n",
              "Gross sales              : 10,000.00\n",
              "Commission rate          : 0.05"
            ]
          },
          "metadata": {},
          "execution_count": 26
        }
      ],
      "source": [
        "s.gross_sales = Decimal('10000.00')\n",
        "s.commission_rate = Decimal('0.05')\n",
        "s.base_salary = Decimal('1000.00')\n",
        "s"
      ]
    },
    {
      "cell_type": "code",
      "execution_count": 27,
      "id": "e24ded0c-42ad-4c5c-8df6-bab9980215c9",
      "metadata": {
        "colab": {
          "base_uri": "https://localhost:8080/"
        },
        "id": "e24ded0c-42ad-4c5c-8df6-bab9980215c9",
        "outputId": "85ee2eb7-de94-4098-b73b-c177b68690e5"
      },
      "outputs": [
        {
          "output_type": "stream",
          "name": "stdout",
          "text": [
            "1,500.00\n"
          ]
        }
      ],
      "source": [
        "print(f'{s.earnings():,.2f}')"
      ]
    },
    {
      "cell_type": "markdown",
      "id": "c1ff8702-1c39-404f-bf79-ac8e97bf3fac",
      "metadata": {
        "id": "c1ff8702-1c39-404f-bf79-ac8e97bf3fac"
      },
      "source": [
        "#### Testing the “is a” Relationship\n",
        "\n",
        "Python provides two built-in functions — __issubclass__ and __isinstance__ — for testing “is a” relationships."
      ]
    },
    {
      "cell_type": "code",
      "execution_count": 28,
      "id": "9dab4389-dc5d-449a-946f-3519d17097d4",
      "metadata": {
        "colab": {
          "base_uri": "https://localhost:8080/"
        },
        "id": "9dab4389-dc5d-449a-946f-3519d17097d4",
        "outputId": "2af36afe-63a1-4bc4-a663-a7406917e77d"
      },
      "outputs": [
        {
          "output_type": "execute_result",
          "data": {
            "text/plain": [
              "True"
            ]
          },
          "metadata": {},
          "execution_count": 28
        }
      ],
      "source": [
        "issubclass(SalariedCommissionEmployee, CommissionEmployee)"
      ]
    },
    {
      "cell_type": "code",
      "execution_count": 29,
      "id": "cf267be1-918e-4729-bff4-52a210f45f58",
      "metadata": {
        "colab": {
          "base_uri": "https://localhost:8080/"
        },
        "id": "cf267be1-918e-4729-bff4-52a210f45f58",
        "outputId": "abc8c58c-7da0-4678-b860-faf84fd49fca"
      },
      "outputs": [
        {
          "output_type": "execute_result",
          "data": {
            "text/plain": [
              "True"
            ]
          },
          "metadata": {},
          "execution_count": 29
        }
      ],
      "source": [
        "isinstance(s, CommissionEmployee)"
      ]
    },
    {
      "cell_type": "code",
      "execution_count": 30,
      "id": "fcfba8a4-254d-44fe-8667-e01cce5b3954",
      "metadata": {
        "colab": {
          "base_uri": "https://localhost:8080/"
        },
        "id": "fcfba8a4-254d-44fe-8667-e01cce5b3954",
        "outputId": "603204c9-da49-4763-e60d-6eef4ec2e49f"
      },
      "outputs": [
        {
          "output_type": "execute_result",
          "data": {
            "text/plain": [
              "True"
            ]
          },
          "metadata": {},
          "execution_count": 30
        }
      ],
      "source": [
        "isinstance(s, SalariedCommissionEmployee)"
      ]
    },
    {
      "cell_type": "markdown",
      "id": "1df0f30b-c0a4-4f4c-8d7b-7cfe9649ad99",
      "metadata": {
        "id": "1df0f30b-c0a4-4f4c-8d7b-7cfe9649ad99"
      },
      "source": [
        "#### Processing CommissionEmployees and SalariedCommissionEmployees Polymorphically\n",
        "\n",
        "With inheritance, every object of a subclass also may be treated as an object of that subclass’s base class.\n",
        "\n",
        "For example, we can place objects related through inheritance into a list, then iterate through the list and treat each element as a base-class object. This allows a variety of objects to be processed in a general way."
      ]
    },
    {
      "cell_type": "code",
      "execution_count": null,
      "id": "9890d6db-91c9-43e8-989c-afc65e3dde59",
      "metadata": {
        "id": "9890d6db-91c9-43e8-989c-afc65e3dde59",
        "outputId": "f447cbc8-07ce-444a-a5cd-f7de20e17fe0"
      },
      "outputs": [
        {
          "name": "stdout",
          "output_type": "stream",
          "text": [
            "CommissionEmployee       : Sue Jones\n",
            "Social security number   : 333-33-3333\n",
            "Gross sales              : 20,000.00\n",
            "Commission rate          : 0.10\n",
            "2,000.00\n",
            "\n",
            "CommissionEmployee       : Bob Lewis\n",
            "Social security number   : 444-44-4444\n",
            "Gross sales              : 5,000.00\n",
            "Commission rate          : 0.04\n",
            "Base Salary              : 300.00\n",
            "500.00\n",
            "\n"
          ]
        }
      ],
      "source": [
        "employees = [c, s]\n",
        "for employee in employees:\n",
        "    print(employee)\n",
        "    print(f'{employee.earnings():,.2f}\\n')"
      ]
    },
    {
      "cell_type": "markdown",
      "id": "210acc79-8358-42d7-a5b1-930e8ff55232",
      "metadata": {
        "id": "210acc79-8358-42d7-a5b1-930e8ff55232"
      },
      "source": [
        "As you can see, the correct string representation and earnings are displayed for each employee. This is called _polymorphism_."
      ]
    },
    {
      "cell_type": "code",
      "execution_count": null,
      "id": "2d2613c9-de07-4464-8588-3c446924db89",
      "metadata": {
        "id": "2d2613c9-de07-4464-8588-3c446924db89"
      },
      "outputs": [],
      "source": []
    }
  ],
  "metadata": {
    "kernelspec": {
      "display_name": "Python 3 (ipykernel)",
      "language": "python",
      "name": "python3"
    },
    "language_info": {
      "codemirror_mode": {
        "name": "ipython",
        "version": 3
      },
      "file_extension": ".py",
      "mimetype": "text/x-python",
      "name": "python",
      "nbconvert_exporter": "python",
      "pygments_lexer": "ipython3",
      "version": "3.10.12"
    },
    "colab": {
      "provenance": [],
      "include_colab_link": true
    }
  },
  "nbformat": 4,
  "nbformat_minor": 5
}