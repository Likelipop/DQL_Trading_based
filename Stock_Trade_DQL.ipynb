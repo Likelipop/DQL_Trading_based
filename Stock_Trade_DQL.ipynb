{
  "cells": [
    {
      "cell_type": "markdown",
      "metadata": {
        "_cell_guid": "83708667-4fdc-1563-7b3a-06b6575d2865",
        "id": "Dp-wHbzSYhTf"
      },
      "source": [
        "# Reinforcement Learning based Trading Strategy\n",
        "\n",
        "In this case study, we will create an end-to-end trading strategy based on Reinforcement Learning.\n"
      ]
    },
    {
      "cell_type": "markdown",
      "metadata": {
        "id": "wP8fZZV_YhTh"
      },
      "source": [
        "## Content"
      ]
    },
    {
      "cell_type": "markdown",
      "metadata": {
        "id": "9RhZMkV6YhTi"
      },
      "source": [
        "* [1. Problem Definition](#0)\n",
        "* [2. Getting Started - Load Libraries and Dataset](#1)\n",
        "    * [2.1. Load Libraries](#1.1)    \n",
        "    * [2.2. Load Dataset](#1.2)\n",
        "* [3. Exploratory Data Analysis](#2)\n",
        "    * [3.1 Descriptive Statistics](#2.1)    \n",
        "    * [3.2. Data Visualisation](#2.2)\n",
        "* [4. Data Preparation](#3)\n",
        "    * [4.1 Data Cleaning](#3.1)\n",
        "* [5.Evaluate Algorithms and Models](#5)\n",
        "    * [5.1. Train Test Split](#5.1)\n",
        "    * [5.2. Implementation steps and modules](#5.2)\n",
        "    * [5.3. Agent Script](#5.3)\n",
        "    * [5.4. Helper Function](#5.4)\n",
        "    * [5.5. Training Set](#5.5)       \n",
        "\n",
        "* [6.Test Set](#6)           "
      ]
    },
    {
      "cell_type": "markdown",
      "metadata": {
        "id": "muP1kresYhTi"
      },
      "source": [
        "<a id='0'></a>\n",
        "# 1. Problem Definition"
      ]
    },
    {
      "cell_type": "markdown",
      "metadata": {
        "id": "E6zP6sguYhTj"
      },
      "source": [
        "In this Reinforcement Learning framework for trading strategy, the algorithm takes an action (buy, sell or hold) depending upon the current state of the stock price. The algorithm is trained using Deep Q-Learning framework, to help us predict\n",
        "the best action, based on the current stock prices.\n",
        "\n",
        "The key components of the RL based framework are :\n",
        "* Agent: Trading agent.\n",
        "* Action: Buy, sell or hold.\n",
        "* Reward function: Realized profit and loss (PnL) is used as the reward function\n",
        "for this case study. The reward depends upon the action:\n",
        "    * Sell: Realized profit and loss (sell price - bought price)\n",
        "    * Buy: No reward\n",
        "    * Hold: No Reward\n",
        "\n",
        "* State: Differences of past stock prices for a given time window is used as the state.\n",
        "\n",
        "The data used for this case study will be the standard and poor's 500. The link to the data is : https://ca.finance.yahoo.com/quote/%255EGSPC/history?p=%255EGSPC)."
      ]
    },
    {
      "cell_type": "markdown",
      "metadata": {
        "id": "UHND9WdvYhTj"
      },
      "source": [
        "<a id='1'></a>\n",
        "# 2. Getting Started- Loading the data and python packages"
      ]
    },
    {
      "cell_type": "markdown",
      "metadata": {
        "id": "Np6HKXEtYhTj"
      },
      "source": [
        "<a id='1.1'></a>\n",
        "## 2.1. Loading the python packages"
      ]
    },
    {
      "cell_type": "code",
      "source": [
        "# !git clone \"https://github.com/Likelipop/Lab_Python_DS.git\"\n",
        "# %cd \"Lab_Python_DS\""
      ],
      "metadata": {
        "id": "IwxwPL4bZHHv"
      },
      "execution_count": 1,
      "outputs": []
    },
    {
      "cell_type": "code",
      "source": [
        "# from google.colab import drive\n",
        "# drive.mount(\"/content/drive\")"
      ],
      "metadata": {
        "id": "q5_jCQ5rKSO-"
      },
      "execution_count": 2,
      "outputs": []
    },
    {
      "cell_type": "code",
      "execution_count": 3,
      "metadata": {
        "_cell_guid": "5d8fee34-f454-2642-8b06-ed719f0317e1",
        "id": "BLu1L1YsYhTk"
      },
      "outputs": [],
      "source": [
        "# Load libraries\n",
        "import numpy as np\n",
        "import pandas as pd\n",
        "import matplotlib.pyplot as plt\n",
        "from pandas import read_csv, set_option\n",
        "from pandas.plotting import scatter_matrix\n",
        "import seaborn as sns\n",
        "from sklearn.preprocessing import StandardScaler\n",
        "import datetime\n",
        "import math\n",
        "from numpy.random import choice\n",
        "import random\n",
        "\n",
        "import requests\n",
        "from bs4 import BeautifulSoup\n",
        "import zipfile\n",
        "import io\n",
        "\n",
        "#Import Model Packages for reinforcement learning\n",
        "from keras import layers, models, optimizers\n",
        "from keras import backend as K\n",
        "from collections import namedtuple, deque"
      ]
    },
    {
      "cell_type": "markdown",
      "metadata": {
        "id": "IiGYT7Y5YhTl"
      },
      "source": [
        "<a id='1.2'></a>\n",
        "## 2.2. Loading the Data"
      ]
    },
    {
      "cell_type": "code",
      "source": [
        "url = 'https://cafef1.mediacdn.vn/data/ami_data/20241218/CafeF.SolieuGD.Upto18122024.zip'"
      ],
      "metadata": {
        "id": "uvkPyTuLzNvx"
      },
      "execution_count": 4,
      "outputs": []
    },
    {
      "cell_type": "code",
      "source": [
        "response = requests.get(url)"
      ],
      "metadata": {
        "id": "Wz94kHxMxv6J"
      },
      "execution_count": 5,
      "outputs": []
    },
    {
      "cell_type": "code",
      "source": [
        "if response.status_code == 200: print(\"Tệp ZIP đã được tải thành công!\")"
      ],
      "metadata": {
        "id": "m_OxnoO3zOfu",
        "colab": {
          "base_uri": "https://localhost:8080/"
        },
        "outputId": "352dc9a3-4e14-45a6-cf58-d2ba8d2326e6"
      },
      "execution_count": 6,
      "outputs": [
        {
          "output_type": "stream",
          "name": "stdout",
          "text": [
            "Tệp ZIP đã được tải thành công!\n"
          ]
        }
      ]
    },
    {
      "cell_type": "code",
      "source": [
        "# Bước 2: Giải nén tệp ZIP\n",
        "with zipfile.ZipFile(io.BytesIO(response.content)) as zip_ref:\n",
        "    # Liệt kê tất cả các tệp trong ZIP\n",
        "    zip_file_names = zip_ref.namelist()\n",
        "    print(\"Danh sách các tệp trong ZIP:\")\n",
        "\n",
        "    # Tạo danh sách các tệp CSV trong tệp ZIP\n",
        "    csv_files = [file_name for file_name in zip_file_names if file_name.endswith('.csv')]\n",
        "\n",
        "    if csv_files:\n",
        "        # Hiển thị danh sách các tệp CSV để người dùng chọn\n",
        "        print(\"\\nCác tệp CSV có trong tệp ZIP:\")\n",
        "        for idx, file in enumerate(csv_files):\n",
        "            print(f\"{idx + 1}. {file}\")\n",
        "\n",
        "        # Bước 3: Yêu cầu người dùng chọn tệp CSV\n",
        "        try:\n",
        "            choice = 1\n",
        "            if 0 <= choice < len(csv_files):\n",
        "                selected_file = csv_files[choice]\n",
        "                print(f\"\\nBạn đã chọn tệp: {selected_file}\")\n",
        "\n",
        "                # Đọc tệp CSV vào pandas DataFrame\n",
        "                with zip_ref.open(selected_file) as file:\n",
        "                    dataset = pd.read_csv(file)\n",
        "                    print(\"\\nDữ liệu từ CSV:\")\n",
        "                    print(dataset.head())  # In 5 dòng đầu của dữ liệu CSV\n",
        "            else:\n",
        "                print(\"Lựa chọn không hợp lệ.\")\n",
        "        except ValueError:\n",
        "            print(\"Vui lòng nhập một số hợp lệ.\")\n",
        "    else:\n",
        "        print(\"Không tìm thấy tệp CSV trong ZIP.\")"
      ],
      "metadata": {
        "id": "YSEuy5WqzWIG",
        "colab": {
          "base_uri": "https://localhost:8080/"
        },
        "outputId": "f56b0ba6-6567-4a23-ecb6-b1123a35a60d"
      },
      "execution_count": 7,
      "outputs": [
        {
          "output_type": "stream",
          "name": "stdout",
          "text": [
            "Danh sách các tệp trong ZIP:\n",
            "\n",
            "Các tệp CSV có trong tệp ZIP:\n",
            "1. CafeF.HSX.Upto18.12.2024.csv\n",
            "2. CafeF.HNX.Upto18.12.2024.csv\n",
            "3. CafeF.UPCOM.Upto18.12.2024.csv\n",
            "\n",
            "Bạn đã chọn tệp: CafeF.HNX.Upto18.12.2024.csv\n",
            "\n",
            "Dữ liệu từ CSV:\n",
            "  <Ticker>  <DTYYYYMMDD>  <Open>  <High>  <Low>  <Close>  <Volume>\n",
            "0      AAV      20241218     7.7     7.9    7.6      7.6    863043\n",
            "1      ADC      20241218    21.0    21.0   21.0     21.0         8\n",
            "2      ALT      20241218    11.9    11.9   11.9     11.9       100\n",
            "3      AME      20241218     4.7     4.7    4.7      4.7       465\n",
            "4      API      20241218     8.1     8.2    7.8      8.0    604506\n"
          ]
        }
      ]
    },
    {
      "cell_type": "code",
      "source": [
        "dataset.head()"
      ],
      "metadata": {
        "id": "BtYCNbEyzips",
        "colab": {
          "base_uri": "https://localhost:8080/",
          "height": 206
        },
        "outputId": "a0008487-b8d9-40eb-fc81-a2a2600c786d"
      },
      "execution_count": 8,
      "outputs": [
        {
          "output_type": "execute_result",
          "data": {
            "text/plain": [
              "  <Ticker>  <DTYYYYMMDD>  <Open>  <High>  <Low>  <Close>  <Volume>\n",
              "0      AAV      20241218     7.7     7.9    7.6      7.6    863043\n",
              "1      ADC      20241218    21.0    21.0   21.0     21.0         8\n",
              "2      ALT      20241218    11.9    11.9   11.9     11.9       100\n",
              "3      AME      20241218     4.7     4.7    4.7      4.7       465\n",
              "4      API      20241218     8.1     8.2    7.8      8.0    604506"
            ],
            "text/html": [
              "\n",
              "  <div id=\"df-c2668c67-9e3b-4693-9e58-b17f3b55a7f1\" class=\"colab-df-container\">\n",
              "    <div>\n",
              "<style scoped>\n",
              "    .dataframe tbody tr th:only-of-type {\n",
              "        vertical-align: middle;\n",
              "    }\n",
              "\n",
              "    .dataframe tbody tr th {\n",
              "        vertical-align: top;\n",
              "    }\n",
              "\n",
              "    .dataframe thead th {\n",
              "        text-align: right;\n",
              "    }\n",
              "</style>\n",
              "<table border=\"1\" class=\"dataframe\">\n",
              "  <thead>\n",
              "    <tr style=\"text-align: right;\">\n",
              "      <th></th>\n",
              "      <th>&lt;Ticker&gt;</th>\n",
              "      <th>&lt;DTYYYYMMDD&gt;</th>\n",
              "      <th>&lt;Open&gt;</th>\n",
              "      <th>&lt;High&gt;</th>\n",
              "      <th>&lt;Low&gt;</th>\n",
              "      <th>&lt;Close&gt;</th>\n",
              "      <th>&lt;Volume&gt;</th>\n",
              "    </tr>\n",
              "  </thead>\n",
              "  <tbody>\n",
              "    <tr>\n",
              "      <th>0</th>\n",
              "      <td>AAV</td>\n",
              "      <td>20241218</td>\n",
              "      <td>7.7</td>\n",
              "      <td>7.9</td>\n",
              "      <td>7.6</td>\n",
              "      <td>7.6</td>\n",
              "      <td>863043</td>\n",
              "    </tr>\n",
              "    <tr>\n",
              "      <th>1</th>\n",
              "      <td>ADC</td>\n",
              "      <td>20241218</td>\n",
              "      <td>21.0</td>\n",
              "      <td>21.0</td>\n",
              "      <td>21.0</td>\n",
              "      <td>21.0</td>\n",
              "      <td>8</td>\n",
              "    </tr>\n",
              "    <tr>\n",
              "      <th>2</th>\n",
              "      <td>ALT</td>\n",
              "      <td>20241218</td>\n",
              "      <td>11.9</td>\n",
              "      <td>11.9</td>\n",
              "      <td>11.9</td>\n",
              "      <td>11.9</td>\n",
              "      <td>100</td>\n",
              "    </tr>\n",
              "    <tr>\n",
              "      <th>3</th>\n",
              "      <td>AME</td>\n",
              "      <td>20241218</td>\n",
              "      <td>4.7</td>\n",
              "      <td>4.7</td>\n",
              "      <td>4.7</td>\n",
              "      <td>4.7</td>\n",
              "      <td>465</td>\n",
              "    </tr>\n",
              "    <tr>\n",
              "      <th>4</th>\n",
              "      <td>API</td>\n",
              "      <td>20241218</td>\n",
              "      <td>8.1</td>\n",
              "      <td>8.2</td>\n",
              "      <td>7.8</td>\n",
              "      <td>8.0</td>\n",
              "      <td>604506</td>\n",
              "    </tr>\n",
              "  </tbody>\n",
              "</table>\n",
              "</div>\n",
              "    <div class=\"colab-df-buttons\">\n",
              "\n",
              "  <div class=\"colab-df-container\">\n",
              "    <button class=\"colab-df-convert\" onclick=\"convertToInteractive('df-c2668c67-9e3b-4693-9e58-b17f3b55a7f1')\"\n",
              "            title=\"Convert this dataframe to an interactive table.\"\n",
              "            style=\"display:none;\">\n",
              "\n",
              "  <svg xmlns=\"http://www.w3.org/2000/svg\" height=\"24px\" viewBox=\"0 -960 960 960\">\n",
              "    <path d=\"M120-120v-720h720v720H120Zm60-500h600v-160H180v160Zm220 220h160v-160H400v160Zm0 220h160v-160H400v160ZM180-400h160v-160H180v160Zm440 0h160v-160H620v160ZM180-180h160v-160H180v160Zm440 0h160v-160H620v160Z\"/>\n",
              "  </svg>\n",
              "    </button>\n",
              "\n",
              "  <style>\n",
              "    .colab-df-container {\n",
              "      display:flex;\n",
              "      gap: 12px;\n",
              "    }\n",
              "\n",
              "    .colab-df-convert {\n",
              "      background-color: #E8F0FE;\n",
              "      border: none;\n",
              "      border-radius: 50%;\n",
              "      cursor: pointer;\n",
              "      display: none;\n",
              "      fill: #1967D2;\n",
              "      height: 32px;\n",
              "      padding: 0 0 0 0;\n",
              "      width: 32px;\n",
              "    }\n",
              "\n",
              "    .colab-df-convert:hover {\n",
              "      background-color: #E2EBFA;\n",
              "      box-shadow: 0px 1px 2px rgba(60, 64, 67, 0.3), 0px 1px 3px 1px rgba(60, 64, 67, 0.15);\n",
              "      fill: #174EA6;\n",
              "    }\n",
              "\n",
              "    .colab-df-buttons div {\n",
              "      margin-bottom: 4px;\n",
              "    }\n",
              "\n",
              "    [theme=dark] .colab-df-convert {\n",
              "      background-color: #3B4455;\n",
              "      fill: #D2E3FC;\n",
              "    }\n",
              "\n",
              "    [theme=dark] .colab-df-convert:hover {\n",
              "      background-color: #434B5C;\n",
              "      box-shadow: 0px 1px 3px 1px rgba(0, 0, 0, 0.15);\n",
              "      filter: drop-shadow(0px 1px 2px rgba(0, 0, 0, 0.3));\n",
              "      fill: #FFFFFF;\n",
              "    }\n",
              "  </style>\n",
              "\n",
              "    <script>\n",
              "      const buttonEl =\n",
              "        document.querySelector('#df-c2668c67-9e3b-4693-9e58-b17f3b55a7f1 button.colab-df-convert');\n",
              "      buttonEl.style.display =\n",
              "        google.colab.kernel.accessAllowed ? 'block' : 'none';\n",
              "\n",
              "      async function convertToInteractive(key) {\n",
              "        const element = document.querySelector('#df-c2668c67-9e3b-4693-9e58-b17f3b55a7f1');\n",
              "        const dataTable =\n",
              "          await google.colab.kernel.invokeFunction('convertToInteractive',\n",
              "                                                    [key], {});\n",
              "        if (!dataTable) return;\n",
              "\n",
              "        const docLinkHtml = 'Like what you see? Visit the ' +\n",
              "          '<a target=\"_blank\" href=https://colab.research.google.com/notebooks/data_table.ipynb>data table notebook</a>'\n",
              "          + ' to learn more about interactive tables.';\n",
              "        element.innerHTML = '';\n",
              "        dataTable['output_type'] = 'display_data';\n",
              "        await google.colab.output.renderOutput(dataTable, element);\n",
              "        const docLink = document.createElement('div');\n",
              "        docLink.innerHTML = docLinkHtml;\n",
              "        element.appendChild(docLink);\n",
              "      }\n",
              "    </script>\n",
              "  </div>\n",
              "\n",
              "\n",
              "<div id=\"df-6062ff98-fd35-4ee9-8f17-346daf73b6b4\">\n",
              "  <button class=\"colab-df-quickchart\" onclick=\"quickchart('df-6062ff98-fd35-4ee9-8f17-346daf73b6b4')\"\n",
              "            title=\"Suggest charts\"\n",
              "            style=\"display:none;\">\n",
              "\n",
              "<svg xmlns=\"http://www.w3.org/2000/svg\" height=\"24px\"viewBox=\"0 0 24 24\"\n",
              "     width=\"24px\">\n",
              "    <g>\n",
              "        <path d=\"M19 3H5c-1.1 0-2 .9-2 2v14c0 1.1.9 2 2 2h14c1.1 0 2-.9 2-2V5c0-1.1-.9-2-2-2zM9 17H7v-7h2v7zm4 0h-2V7h2v10zm4 0h-2v-4h2v4z\"/>\n",
              "    </g>\n",
              "</svg>\n",
              "  </button>\n",
              "\n",
              "<style>\n",
              "  .colab-df-quickchart {\n",
              "      --bg-color: #E8F0FE;\n",
              "      --fill-color: #1967D2;\n",
              "      --hover-bg-color: #E2EBFA;\n",
              "      --hover-fill-color: #174EA6;\n",
              "      --disabled-fill-color: #AAA;\n",
              "      --disabled-bg-color: #DDD;\n",
              "  }\n",
              "\n",
              "  [theme=dark] .colab-df-quickchart {\n",
              "      --bg-color: #3B4455;\n",
              "      --fill-color: #D2E3FC;\n",
              "      --hover-bg-color: #434B5C;\n",
              "      --hover-fill-color: #FFFFFF;\n",
              "      --disabled-bg-color: #3B4455;\n",
              "      --disabled-fill-color: #666;\n",
              "  }\n",
              "\n",
              "  .colab-df-quickchart {\n",
              "    background-color: var(--bg-color);\n",
              "    border: none;\n",
              "    border-radius: 50%;\n",
              "    cursor: pointer;\n",
              "    display: none;\n",
              "    fill: var(--fill-color);\n",
              "    height: 32px;\n",
              "    padding: 0;\n",
              "    width: 32px;\n",
              "  }\n",
              "\n",
              "  .colab-df-quickchart:hover {\n",
              "    background-color: var(--hover-bg-color);\n",
              "    box-shadow: 0 1px 2px rgba(60, 64, 67, 0.3), 0 1px 3px 1px rgba(60, 64, 67, 0.15);\n",
              "    fill: var(--button-hover-fill-color);\n",
              "  }\n",
              "\n",
              "  .colab-df-quickchart-complete:disabled,\n",
              "  .colab-df-quickchart-complete:disabled:hover {\n",
              "    background-color: var(--disabled-bg-color);\n",
              "    fill: var(--disabled-fill-color);\n",
              "    box-shadow: none;\n",
              "  }\n",
              "\n",
              "  .colab-df-spinner {\n",
              "    border: 2px solid var(--fill-color);\n",
              "    border-color: transparent;\n",
              "    border-bottom-color: var(--fill-color);\n",
              "    animation:\n",
              "      spin 1s steps(1) infinite;\n",
              "  }\n",
              "\n",
              "  @keyframes spin {\n",
              "    0% {\n",
              "      border-color: transparent;\n",
              "      border-bottom-color: var(--fill-color);\n",
              "      border-left-color: var(--fill-color);\n",
              "    }\n",
              "    20% {\n",
              "      border-color: transparent;\n",
              "      border-left-color: var(--fill-color);\n",
              "      border-top-color: var(--fill-color);\n",
              "    }\n",
              "    30% {\n",
              "      border-color: transparent;\n",
              "      border-left-color: var(--fill-color);\n",
              "      border-top-color: var(--fill-color);\n",
              "      border-right-color: var(--fill-color);\n",
              "    }\n",
              "    40% {\n",
              "      border-color: transparent;\n",
              "      border-right-color: var(--fill-color);\n",
              "      border-top-color: var(--fill-color);\n",
              "    }\n",
              "    60% {\n",
              "      border-color: transparent;\n",
              "      border-right-color: var(--fill-color);\n",
              "    }\n",
              "    80% {\n",
              "      border-color: transparent;\n",
              "      border-right-color: var(--fill-color);\n",
              "      border-bottom-color: var(--fill-color);\n",
              "    }\n",
              "    90% {\n",
              "      border-color: transparent;\n",
              "      border-bottom-color: var(--fill-color);\n",
              "    }\n",
              "  }\n",
              "</style>\n",
              "\n",
              "  <script>\n",
              "    async function quickchart(key) {\n",
              "      const quickchartButtonEl =\n",
              "        document.querySelector('#' + key + ' button');\n",
              "      quickchartButtonEl.disabled = true;  // To prevent multiple clicks.\n",
              "      quickchartButtonEl.classList.add('colab-df-spinner');\n",
              "      try {\n",
              "        const charts = await google.colab.kernel.invokeFunction(\n",
              "            'suggestCharts', [key], {});\n",
              "      } catch (error) {\n",
              "        console.error('Error during call to suggestCharts:', error);\n",
              "      }\n",
              "      quickchartButtonEl.classList.remove('colab-df-spinner');\n",
              "      quickchartButtonEl.classList.add('colab-df-quickchart-complete');\n",
              "    }\n",
              "    (() => {\n",
              "      let quickchartButtonEl =\n",
              "        document.querySelector('#df-6062ff98-fd35-4ee9-8f17-346daf73b6b4 button');\n",
              "      quickchartButtonEl.style.display =\n",
              "        google.colab.kernel.accessAllowed ? 'block' : 'none';\n",
              "    })();\n",
              "  </script>\n",
              "</div>\n",
              "\n",
              "    </div>\n",
              "  </div>\n"
            ],
            "application/vnd.google.colaboratory.intrinsic+json": {
              "type": "dataframe",
              "variable_name": "dataset"
            }
          },
          "metadata": {},
          "execution_count": 8
        }
      ]
    },
    {
      "cell_type": "code",
      "execution_count": 9,
      "metadata": {
        "id": "iNHtE0VtYhTl"
      },
      "outputs": [],
      "source": [
        "#The data already obtained from yahoo finance is imported.\n",
        "# dataset = read_csv('/content/drive/MyDrive/year4/PY/HNX.Upto13.12.2024.csv',index_col=0)"
      ]
    },
    {
      "cell_type": "code",
      "execution_count": 10,
      "metadata": {
        "id": "ejWCd4JKYhTl"
      },
      "outputs": [],
      "source": [
        "#Diable the warnings\n",
        "import warnings\n",
        "warnings.filterwarnings('ignore')"
      ]
    },
    {
      "cell_type": "code",
      "execution_count": 11,
      "metadata": {
        "colab": {
          "base_uri": "https://localhost:8080/",
          "height": 204
        },
        "id": "tg6ezDaUYhTm",
        "outputId": "1af5cf01-df7c-4d37-805b-41827575854f"
      },
      "outputs": [
        {
          "output_type": "execute_result",
          "data": {
            "text/plain": [
              "pandas.core.frame.DataFrame"
            ],
            "text/html": [
              "<div style=\"max-width:800px; border: 1px solid var(--colab-border-color);\"><style>\n",
              "      pre.function-repr-contents {\n",
              "        overflow-x: auto;\n",
              "        padding: 8px 12px;\n",
              "        max-height: 500px;\n",
              "      }\n",
              "\n",
              "      pre.function-repr-contents.function-repr-contents-collapsed {\n",
              "        cursor: pointer;\n",
              "        max-height: 100px;\n",
              "      }\n",
              "    </style>\n",
              "    <pre style=\"white-space: initial; background:\n",
              "         var(--colab-secondary-surface-color); padding: 8px 12px;\n",
              "         border-bottom: 1px solid var(--colab-border-color);\"><b>pandas.core.frame.DataFrame</b><br/>def __init__(data=None, index: Axes | None=None, columns: Axes | None=None, dtype: Dtype | None=None, copy: bool | None=None) -&gt; None</pre><pre class=\"function-repr-contents function-repr-contents-collapsed\" style=\"\"><a class=\"filepath\" style=\"display:none\" href=\"#\">/usr/local/lib/python3.10/dist-packages/pandas/core/frame.py</a>Two-dimensional, size-mutable, potentially heterogeneous tabular data.\n",
              "\n",
              "Data structure also contains labeled axes (rows and columns).\n",
              "Arithmetic operations align on both row and column labels. Can be\n",
              "thought of as a dict-like container for Series objects. The primary\n",
              "pandas data structure.\n",
              "\n",
              "Parameters\n",
              "----------\n",
              "data : ndarray (structured or homogeneous), Iterable, dict, or DataFrame\n",
              "    Dict can contain Series, arrays, constants, dataclass or list-like objects. If\n",
              "    data is a dict, column order follows insertion-order. If a dict contains Series\n",
              "    which have an index defined, it is aligned by its index. This alignment also\n",
              "    occurs if data is a Series or a DataFrame itself. Alignment is done on\n",
              "    Series/DataFrame inputs.\n",
              "\n",
              "    If data is a list of dicts, column order follows insertion-order.\n",
              "\n",
              "index : Index or array-like\n",
              "    Index to use for resulting frame. Will default to RangeIndex if\n",
              "    no indexing information part of input data and no index provided.\n",
              "columns : Index or array-like\n",
              "    Column labels to use for resulting frame when data does not have them,\n",
              "    defaulting to RangeIndex(0, 1, 2, ..., n). If data contains column labels,\n",
              "    will perform column selection instead.\n",
              "dtype : dtype, default None\n",
              "    Data type to force. Only a single dtype is allowed. If None, infer.\n",
              "copy : bool or None, default None\n",
              "    Copy data from inputs.\n",
              "    For dict data, the default of None behaves like ``copy=True``.  For DataFrame\n",
              "    or 2d ndarray input, the default of None behaves like ``copy=False``.\n",
              "    If data is a dict containing one or more Series (possibly of different dtypes),\n",
              "    ``copy=False`` will ensure that these inputs are not copied.\n",
              "\n",
              "    .. versionchanged:: 1.3.0\n",
              "\n",
              "See Also\n",
              "--------\n",
              "DataFrame.from_records : Constructor from tuples, also record arrays.\n",
              "DataFrame.from_dict : From dicts of Series, arrays, or dicts.\n",
              "read_csv : Read a comma-separated values (csv) file into DataFrame.\n",
              "read_table : Read general delimited file into DataFrame.\n",
              "read_clipboard : Read text from clipboard into DataFrame.\n",
              "\n",
              "Notes\n",
              "-----\n",
              "Please reference the :ref:`User Guide &lt;basics.dataframe&gt;` for more information.\n",
              "\n",
              "Examples\n",
              "--------\n",
              "Constructing DataFrame from a dictionary.\n",
              "\n",
              "&gt;&gt;&gt; d = {&#x27;col1&#x27;: [1, 2], &#x27;col2&#x27;: [3, 4]}\n",
              "&gt;&gt;&gt; df = pd.DataFrame(data=d)\n",
              "&gt;&gt;&gt; df\n",
              "   col1  col2\n",
              "0     1     3\n",
              "1     2     4\n",
              "\n",
              "Notice that the inferred dtype is int64.\n",
              "\n",
              "&gt;&gt;&gt; df.dtypes\n",
              "col1    int64\n",
              "col2    int64\n",
              "dtype: object\n",
              "\n",
              "To enforce a single dtype:\n",
              "\n",
              "&gt;&gt;&gt; df = pd.DataFrame(data=d, dtype=np.int8)\n",
              "&gt;&gt;&gt; df.dtypes\n",
              "col1    int8\n",
              "col2    int8\n",
              "dtype: object\n",
              "\n",
              "Constructing DataFrame from a dictionary including Series:\n",
              "\n",
              "&gt;&gt;&gt; d = {&#x27;col1&#x27;: [0, 1, 2, 3], &#x27;col2&#x27;: pd.Series([2, 3], index=[2, 3])}\n",
              "&gt;&gt;&gt; pd.DataFrame(data=d, index=[0, 1, 2, 3])\n",
              "   col1  col2\n",
              "0     0   NaN\n",
              "1     1   NaN\n",
              "2     2   2.0\n",
              "3     3   3.0\n",
              "\n",
              "Constructing DataFrame from numpy ndarray:\n",
              "\n",
              "&gt;&gt;&gt; df2 = pd.DataFrame(np.array([[1, 2, 3], [4, 5, 6], [7, 8, 9]]),\n",
              "...                    columns=[&#x27;a&#x27;, &#x27;b&#x27;, &#x27;c&#x27;])\n",
              "&gt;&gt;&gt; df2\n",
              "   a  b  c\n",
              "0  1  2  3\n",
              "1  4  5  6\n",
              "2  7  8  9\n",
              "\n",
              "Constructing DataFrame from a numpy ndarray that has labeled columns:\n",
              "\n",
              "&gt;&gt;&gt; data = np.array([(1, 2, 3), (4, 5, 6), (7, 8, 9)],\n",
              "...                 dtype=[(&quot;a&quot;, &quot;i4&quot;), (&quot;b&quot;, &quot;i4&quot;), (&quot;c&quot;, &quot;i4&quot;)])\n",
              "&gt;&gt;&gt; df3 = pd.DataFrame(data, columns=[&#x27;c&#x27;, &#x27;a&#x27;])\n",
              "...\n",
              "&gt;&gt;&gt; df3\n",
              "   c  a\n",
              "0  3  1\n",
              "1  6  4\n",
              "2  9  7\n",
              "\n",
              "Constructing DataFrame from dataclass:\n",
              "\n",
              "&gt;&gt;&gt; from dataclasses import make_dataclass\n",
              "&gt;&gt;&gt; Point = make_dataclass(&quot;Point&quot;, [(&quot;x&quot;, int), (&quot;y&quot;, int)])\n",
              "&gt;&gt;&gt; pd.DataFrame([Point(0, 0), Point(0, 3), Point(2, 3)])\n",
              "   x  y\n",
              "0  0  0\n",
              "1  0  3\n",
              "2  2  3\n",
              "\n",
              "Constructing DataFrame from Series/DataFrame:\n",
              "\n",
              "&gt;&gt;&gt; ser = pd.Series([1, 2, 3], index=[&quot;a&quot;, &quot;b&quot;, &quot;c&quot;])\n",
              "&gt;&gt;&gt; df = pd.DataFrame(data=ser, index=[&quot;a&quot;, &quot;c&quot;])\n",
              "&gt;&gt;&gt; df\n",
              "   0\n",
              "a  1\n",
              "c  3\n",
              "\n",
              "&gt;&gt;&gt; df1 = pd.DataFrame([1, 2, 3], index=[&quot;a&quot;, &quot;b&quot;, &quot;c&quot;], columns=[&quot;x&quot;])\n",
              "&gt;&gt;&gt; df2 = pd.DataFrame(data=df1, index=[&quot;a&quot;, &quot;c&quot;])\n",
              "&gt;&gt;&gt; df2\n",
              "   x\n",
              "a  1\n",
              "c  3</pre>\n",
              "      <script>\n",
              "      if (google.colab.kernel.accessAllowed && google.colab.files && google.colab.files.view) {\n",
              "        for (const element of document.querySelectorAll('.filepath')) {\n",
              "          element.style.display = 'block'\n",
              "          element.onclick = (event) => {\n",
              "            event.preventDefault();\n",
              "            event.stopPropagation();\n",
              "            google.colab.files.view(element.textContent, 509);\n",
              "          };\n",
              "        }\n",
              "      }\n",
              "      for (const element of document.querySelectorAll('.function-repr-contents')) {\n",
              "        element.onclick = (event) => {\n",
              "          event.preventDefault();\n",
              "          event.stopPropagation();\n",
              "          element.classList.toggle('function-repr-contents-collapsed');\n",
              "        };\n",
              "      }\n",
              "      </script>\n",
              "      </div>"
            ]
          },
          "metadata": {},
          "execution_count": 11
        }
      ],
      "source": [
        "type(dataset)"
      ]
    },
    {
      "cell_type": "markdown",
      "metadata": {
        "_cell_guid": "df6a4523-b385-69ee-c933-592826d81431",
        "id": "g9jvw0QSYhTm"
      },
      "source": [
        "<a id='2'></a>\n",
        "# 3. Exploratory Data Analysis"
      ]
    },
    {
      "cell_type": "code",
      "execution_count": 12,
      "metadata": {
        "_cell_guid": "52f85dc2-0f91-3c50-400e-ddc38bea966b",
        "colab": {
          "base_uri": "https://localhost:8080/"
        },
        "id": "eHVcwbr-YhTn",
        "outputId": "55f1bda4-f84a-49af-a12a-ac0e1f299ae3"
      },
      "outputs": [
        {
          "output_type": "execute_result",
          "data": {
            "text/plain": [
              "(832202, 7)"
            ]
          },
          "metadata": {},
          "execution_count": 12
        }
      ],
      "source": [
        "# shape\n",
        "dataset.shape"
      ]
    },
    {
      "cell_type": "code",
      "execution_count": 13,
      "metadata": {
        "colab": {
          "base_uri": "https://localhost:8080/",
          "height": 206
        },
        "id": "A_pwFs6ZYhTn",
        "outputId": "8b5a5019-fd2f-44a9-e3dd-00e3f0d2e3ef"
      },
      "outputs": [
        {
          "output_type": "execute_result",
          "data": {
            "text/plain": [
              "  <Ticker>  <DTYYYYMMDD>  <Open>  <High>  <Low>  <Close>  <Volume>\n",
              "0      AAV      20241218     7.7     7.9    7.6      7.6    863043\n",
              "1      ADC      20241218    21.0    21.0   21.0     21.0         8\n",
              "2      ALT      20241218    11.9    11.9   11.9     11.9       100\n",
              "3      AME      20241218     4.7     4.7    4.7      4.7       465\n",
              "4      API      20241218     8.1     8.2    7.8      8.0    604506"
            ],
            "text/html": [
              "\n",
              "  <div id=\"df-404e4241-a2ed-4c12-9075-fa030c9a9d7c\" class=\"colab-df-container\">\n",
              "    <div>\n",
              "<style scoped>\n",
              "    .dataframe tbody tr th:only-of-type {\n",
              "        vertical-align: middle;\n",
              "    }\n",
              "\n",
              "    .dataframe tbody tr th {\n",
              "        vertical-align: top;\n",
              "    }\n",
              "\n",
              "    .dataframe thead th {\n",
              "        text-align: right;\n",
              "    }\n",
              "</style>\n",
              "<table border=\"1\" class=\"dataframe\">\n",
              "  <thead>\n",
              "    <tr style=\"text-align: right;\">\n",
              "      <th></th>\n",
              "      <th>&lt;Ticker&gt;</th>\n",
              "      <th>&lt;DTYYYYMMDD&gt;</th>\n",
              "      <th>&lt;Open&gt;</th>\n",
              "      <th>&lt;High&gt;</th>\n",
              "      <th>&lt;Low&gt;</th>\n",
              "      <th>&lt;Close&gt;</th>\n",
              "      <th>&lt;Volume&gt;</th>\n",
              "    </tr>\n",
              "  </thead>\n",
              "  <tbody>\n",
              "    <tr>\n",
              "      <th>0</th>\n",
              "      <td>AAV</td>\n",
              "      <td>20241218</td>\n",
              "      <td>7.7</td>\n",
              "      <td>7.9</td>\n",
              "      <td>7.6</td>\n",
              "      <td>7.6</td>\n",
              "      <td>863043</td>\n",
              "    </tr>\n",
              "    <tr>\n",
              "      <th>1</th>\n",
              "      <td>ADC</td>\n",
              "      <td>20241218</td>\n",
              "      <td>21.0</td>\n",
              "      <td>21.0</td>\n",
              "      <td>21.0</td>\n",
              "      <td>21.0</td>\n",
              "      <td>8</td>\n",
              "    </tr>\n",
              "    <tr>\n",
              "      <th>2</th>\n",
              "      <td>ALT</td>\n",
              "      <td>20241218</td>\n",
              "      <td>11.9</td>\n",
              "      <td>11.9</td>\n",
              "      <td>11.9</td>\n",
              "      <td>11.9</td>\n",
              "      <td>100</td>\n",
              "    </tr>\n",
              "    <tr>\n",
              "      <th>3</th>\n",
              "      <td>AME</td>\n",
              "      <td>20241218</td>\n",
              "      <td>4.7</td>\n",
              "      <td>4.7</td>\n",
              "      <td>4.7</td>\n",
              "      <td>4.7</td>\n",
              "      <td>465</td>\n",
              "    </tr>\n",
              "    <tr>\n",
              "      <th>4</th>\n",
              "      <td>API</td>\n",
              "      <td>20241218</td>\n",
              "      <td>8.1</td>\n",
              "      <td>8.2</td>\n",
              "      <td>7.8</td>\n",
              "      <td>8.0</td>\n",
              "      <td>604506</td>\n",
              "    </tr>\n",
              "  </tbody>\n",
              "</table>\n",
              "</div>\n",
              "    <div class=\"colab-df-buttons\">\n",
              "\n",
              "  <div class=\"colab-df-container\">\n",
              "    <button class=\"colab-df-convert\" onclick=\"convertToInteractive('df-404e4241-a2ed-4c12-9075-fa030c9a9d7c')\"\n",
              "            title=\"Convert this dataframe to an interactive table.\"\n",
              "            style=\"display:none;\">\n",
              "\n",
              "  <svg xmlns=\"http://www.w3.org/2000/svg\" height=\"24px\" viewBox=\"0 -960 960 960\">\n",
              "    <path d=\"M120-120v-720h720v720H120Zm60-500h600v-160H180v160Zm220 220h160v-160H400v160Zm0 220h160v-160H400v160ZM180-400h160v-160H180v160Zm440 0h160v-160H620v160ZM180-180h160v-160H180v160Zm440 0h160v-160H620v160Z\"/>\n",
              "  </svg>\n",
              "    </button>\n",
              "\n",
              "  <style>\n",
              "    .colab-df-container {\n",
              "      display:flex;\n",
              "      gap: 12px;\n",
              "    }\n",
              "\n",
              "    .colab-df-convert {\n",
              "      background-color: #E8F0FE;\n",
              "      border: none;\n",
              "      border-radius: 50%;\n",
              "      cursor: pointer;\n",
              "      display: none;\n",
              "      fill: #1967D2;\n",
              "      height: 32px;\n",
              "      padding: 0 0 0 0;\n",
              "      width: 32px;\n",
              "    }\n",
              "\n",
              "    .colab-df-convert:hover {\n",
              "      background-color: #E2EBFA;\n",
              "      box-shadow: 0px 1px 2px rgba(60, 64, 67, 0.3), 0px 1px 3px 1px rgba(60, 64, 67, 0.15);\n",
              "      fill: #174EA6;\n",
              "    }\n",
              "\n",
              "    .colab-df-buttons div {\n",
              "      margin-bottom: 4px;\n",
              "    }\n",
              "\n",
              "    [theme=dark] .colab-df-convert {\n",
              "      background-color: #3B4455;\n",
              "      fill: #D2E3FC;\n",
              "    }\n",
              "\n",
              "    [theme=dark] .colab-df-convert:hover {\n",
              "      background-color: #434B5C;\n",
              "      box-shadow: 0px 1px 3px 1px rgba(0, 0, 0, 0.15);\n",
              "      filter: drop-shadow(0px 1px 2px rgba(0, 0, 0, 0.3));\n",
              "      fill: #FFFFFF;\n",
              "    }\n",
              "  </style>\n",
              "\n",
              "    <script>\n",
              "      const buttonEl =\n",
              "        document.querySelector('#df-404e4241-a2ed-4c12-9075-fa030c9a9d7c button.colab-df-convert');\n",
              "      buttonEl.style.display =\n",
              "        google.colab.kernel.accessAllowed ? 'block' : 'none';\n",
              "\n",
              "      async function convertToInteractive(key) {\n",
              "        const element = document.querySelector('#df-404e4241-a2ed-4c12-9075-fa030c9a9d7c');\n",
              "        const dataTable =\n",
              "          await google.colab.kernel.invokeFunction('convertToInteractive',\n",
              "                                                    [key], {});\n",
              "        if (!dataTable) return;\n",
              "\n",
              "        const docLinkHtml = 'Like what you see? Visit the ' +\n",
              "          '<a target=\"_blank\" href=https://colab.research.google.com/notebooks/data_table.ipynb>data table notebook</a>'\n",
              "          + ' to learn more about interactive tables.';\n",
              "        element.innerHTML = '';\n",
              "        dataTable['output_type'] = 'display_data';\n",
              "        await google.colab.output.renderOutput(dataTable, element);\n",
              "        const docLink = document.createElement('div');\n",
              "        docLink.innerHTML = docLinkHtml;\n",
              "        element.appendChild(docLink);\n",
              "      }\n",
              "    </script>\n",
              "  </div>\n",
              "\n",
              "\n",
              "<div id=\"df-b9780419-f7e0-49ed-8b4c-83dca64991e3\">\n",
              "  <button class=\"colab-df-quickchart\" onclick=\"quickchart('df-b9780419-f7e0-49ed-8b4c-83dca64991e3')\"\n",
              "            title=\"Suggest charts\"\n",
              "            style=\"display:none;\">\n",
              "\n",
              "<svg xmlns=\"http://www.w3.org/2000/svg\" height=\"24px\"viewBox=\"0 0 24 24\"\n",
              "     width=\"24px\">\n",
              "    <g>\n",
              "        <path d=\"M19 3H5c-1.1 0-2 .9-2 2v14c0 1.1.9 2 2 2h14c1.1 0 2-.9 2-2V5c0-1.1-.9-2-2-2zM9 17H7v-7h2v7zm4 0h-2V7h2v10zm4 0h-2v-4h2v4z\"/>\n",
              "    </g>\n",
              "</svg>\n",
              "  </button>\n",
              "\n",
              "<style>\n",
              "  .colab-df-quickchart {\n",
              "      --bg-color: #E8F0FE;\n",
              "      --fill-color: #1967D2;\n",
              "      --hover-bg-color: #E2EBFA;\n",
              "      --hover-fill-color: #174EA6;\n",
              "      --disabled-fill-color: #AAA;\n",
              "      --disabled-bg-color: #DDD;\n",
              "  }\n",
              "\n",
              "  [theme=dark] .colab-df-quickchart {\n",
              "      --bg-color: #3B4455;\n",
              "      --fill-color: #D2E3FC;\n",
              "      --hover-bg-color: #434B5C;\n",
              "      --hover-fill-color: #FFFFFF;\n",
              "      --disabled-bg-color: #3B4455;\n",
              "      --disabled-fill-color: #666;\n",
              "  }\n",
              "\n",
              "  .colab-df-quickchart {\n",
              "    background-color: var(--bg-color);\n",
              "    border: none;\n",
              "    border-radius: 50%;\n",
              "    cursor: pointer;\n",
              "    display: none;\n",
              "    fill: var(--fill-color);\n",
              "    height: 32px;\n",
              "    padding: 0;\n",
              "    width: 32px;\n",
              "  }\n",
              "\n",
              "  .colab-df-quickchart:hover {\n",
              "    background-color: var(--hover-bg-color);\n",
              "    box-shadow: 0 1px 2px rgba(60, 64, 67, 0.3), 0 1px 3px 1px rgba(60, 64, 67, 0.15);\n",
              "    fill: var(--button-hover-fill-color);\n",
              "  }\n",
              "\n",
              "  .colab-df-quickchart-complete:disabled,\n",
              "  .colab-df-quickchart-complete:disabled:hover {\n",
              "    background-color: var(--disabled-bg-color);\n",
              "    fill: var(--disabled-fill-color);\n",
              "    box-shadow: none;\n",
              "  }\n",
              "\n",
              "  .colab-df-spinner {\n",
              "    border: 2px solid var(--fill-color);\n",
              "    border-color: transparent;\n",
              "    border-bottom-color: var(--fill-color);\n",
              "    animation:\n",
              "      spin 1s steps(1) infinite;\n",
              "  }\n",
              "\n",
              "  @keyframes spin {\n",
              "    0% {\n",
              "      border-color: transparent;\n",
              "      border-bottom-color: var(--fill-color);\n",
              "      border-left-color: var(--fill-color);\n",
              "    }\n",
              "    20% {\n",
              "      border-color: transparent;\n",
              "      border-left-color: var(--fill-color);\n",
              "      border-top-color: var(--fill-color);\n",
              "    }\n",
              "    30% {\n",
              "      border-color: transparent;\n",
              "      border-left-color: var(--fill-color);\n",
              "      border-top-color: var(--fill-color);\n",
              "      border-right-color: var(--fill-color);\n",
              "    }\n",
              "    40% {\n",
              "      border-color: transparent;\n",
              "      border-right-color: var(--fill-color);\n",
              "      border-top-color: var(--fill-color);\n",
              "    }\n",
              "    60% {\n",
              "      border-color: transparent;\n",
              "      border-right-color: var(--fill-color);\n",
              "    }\n",
              "    80% {\n",
              "      border-color: transparent;\n",
              "      border-right-color: var(--fill-color);\n",
              "      border-bottom-color: var(--fill-color);\n",
              "    }\n",
              "    90% {\n",
              "      border-color: transparent;\n",
              "      border-bottom-color: var(--fill-color);\n",
              "    }\n",
              "  }\n",
              "</style>\n",
              "\n",
              "  <script>\n",
              "    async function quickchart(key) {\n",
              "      const quickchartButtonEl =\n",
              "        document.querySelector('#' + key + ' button');\n",
              "      quickchartButtonEl.disabled = true;  // To prevent multiple clicks.\n",
              "      quickchartButtonEl.classList.add('colab-df-spinner');\n",
              "      try {\n",
              "        const charts = await google.colab.kernel.invokeFunction(\n",
              "            'suggestCharts', [key], {});\n",
              "      } catch (error) {\n",
              "        console.error('Error during call to suggestCharts:', error);\n",
              "      }\n",
              "      quickchartButtonEl.classList.remove('colab-df-spinner');\n",
              "      quickchartButtonEl.classList.add('colab-df-quickchart-complete');\n",
              "    }\n",
              "    (() => {\n",
              "      let quickchartButtonEl =\n",
              "        document.querySelector('#df-b9780419-f7e0-49ed-8b4c-83dca64991e3 button');\n",
              "      quickchartButtonEl.style.display =\n",
              "        google.colab.kernel.accessAllowed ? 'block' : 'none';\n",
              "    })();\n",
              "  </script>\n",
              "</div>\n",
              "\n",
              "    </div>\n",
              "  </div>\n"
            ],
            "application/vnd.google.colaboratory.intrinsic+json": {
              "type": "dataframe",
              "variable_name": "dataset"
            }
          },
          "metadata": {},
          "execution_count": 13
        }
      ],
      "source": [
        "dataset.head(5)"
      ]
    },
    {
      "cell_type": "markdown",
      "metadata": {
        "id": "xbsFsHnZYhTn"
      },
      "source": [
        "The data has total 2515 rows and six columns which contain the open, high, low,\n",
        "close and adjusted close price along with the total volume. The adjusted close is the\n",
        "closing price adjusted for the split and dividends. For the purpose of this case study,\n",
        "we will be focusing on the closing price."
      ]
    },
    {
      "cell_type": "code",
      "source": [
        "# Hiển thị tên các cột\n",
        "print(dataset.columns)"
      ],
      "metadata": {
        "colab": {
          "base_uri": "https://localhost:8080/"
        },
        "id": "uAf3VMUQJNoW",
        "outputId": "fb55715f-0318-4431-a7d7-48209ce26dab"
      },
      "execution_count": 14,
      "outputs": [
        {
          "output_type": "stream",
          "name": "stdout",
          "text": [
            "Index(['<Ticker>', '<DTYYYYMMDD>', '<Open>', '<High>', '<Low>', '<Close>',\n",
            "       '<Volume>'],\n",
            "      dtype='object')\n"
          ]
        }
      ]
    },
    {
      "cell_type": "code",
      "source": [
        "# Lấy danh sách các ticker duy nhất từ cột <Ticker>\n",
        "unique_tickers = dataset['<Ticker>'].unique()\n",
        "\n",
        "# Hiển thị danh sách các ticker\n",
        "print(unique_tickers)\n",
        "\n",
        "print(\"có\", unique_tickers.shape, \"Công ty\")\n"
      ],
      "metadata": {
        "colab": {
          "base_uri": "https://localhost:8080/"
        },
        "id": "Q0G0Yhf4anlk",
        "outputId": "233100cd-f984-464d-86ca-9bcf7a5b308c"
      },
      "execution_count": 15,
      "outputs": [
        {
          "output_type": "stream",
          "name": "stdout",
          "text": [
            "['AAV' 'ADC' 'ALT' 'AME' 'API' 'APS' 'ARM' 'ATS' 'BAB' 'BAX' 'BCC' 'BCF'\n",
            " 'BKC' 'BNA' 'BST' 'BTS' 'BTW' 'BVS' 'C69' 'CAG' 'CAP' 'CAR' 'CDN' 'CEO'\n",
            " 'CET' 'CIA' 'CLH' 'CLM' 'CMS' 'CPC' 'CSC' 'CTP' 'CX8' 'D11' 'DAD' 'DAE'\n",
            " 'DC2' 'DDG' 'DHP' 'DHT' 'DIH' 'DL1' 'DNC' 'DNP' 'DP3' 'DS3' 'DST' 'DTC'\n",
            " 'DTD' 'DTG' 'DTK' 'DVM' 'DXP' 'EBS' 'EID' 'EVS' 'GDW' 'GIC' 'GKM' 'GLT'\n",
            " 'GMX' 'HBS' 'HCC' 'HDA' 'HGM' 'HHC' 'HKT' 'HLC' 'HLD' 'HMH' 'HMR' 'HOM'\n",
            " 'HUT' 'HVT' 'IDC' 'IDJ' 'IDV' 'INC' 'INN' 'IPA' 'ITQ' 'IVS' 'KDM' 'KHS'\n",
            " 'KKC' 'KSD' 'KSF' 'KSQ' 'KSV' 'KTS' 'L14' 'L18' 'L40' 'LAS' 'LDP' 'LHC'\n",
            " 'LIG' 'MAC' 'MBG' 'MBS' 'MCO' 'MDC' 'MED' 'MEL' 'MKV' 'MST' 'MVB' 'NAG'\n",
            " 'NBC' 'NBP' 'NBW' 'NDN' 'NDX' 'NET' 'NHC' 'NRC' 'NSH' 'NTP' 'NVB' 'OCH'\n",
            " 'ONE' 'PBP' 'PCE' 'PCG' 'PCH' 'PCT' 'PDB' 'PGN' 'PGS' 'PGT' 'PIC' 'PLC'\n",
            " 'PMB' 'PMC' 'POT' 'PPP' 'PPS' 'PPT' 'PPY' 'PRC' 'PRE' 'PSD' 'PSI' 'PSW'\n",
            " 'PTI' 'PTX' 'PV2' 'PVB' 'PVC' 'PVG' 'PVI' 'PVS' 'QTC' 'RCL' 'S99' 'SAF'\n",
            " 'SCG' 'SCI' 'SD5' 'SD9' 'SDA' 'SDN' 'SED' 'SGC' 'SHE' 'SHN' 'SHS' 'SJ1'\n",
            " 'SJE' 'SLS' 'SMT' 'SPC' 'SZB' 'TA9' 'TDT' 'TFC' 'THD' 'THT' 'TIG' 'TJC'\n",
            " 'TKU' 'TMB' 'TMX' 'TNG' 'TOT' 'TSB' 'TTC' 'TTH' 'TTL' 'TV3' 'TV4' 'TVC'\n",
            " 'TVD' 'TXM' 'UNI' 'V12' 'V21' 'VBC' 'VC1' 'VC2' 'VC3' 'VC6' 'VC7' 'VC9'\n",
            " 'VCC' 'VCM' 'VCS' 'VDL' 'VE1' 'VFS' 'VGP' 'VGS' 'VHE' 'VHL' 'VIF' 'VIG'\n",
            " 'VLA' 'VMC' 'VMS' 'VNC' 'VNF' 'VNR' 'VSA' 'VSM' 'VTJ' 'VTV' 'VTZ' 'WSS'\n",
            " 'AMC' 'CCR' 'CKV' 'CMC' 'HAD' 'HCT' 'HJS' 'ICG' 'MCF' 'NFC' 'NST' 'PHN'\n",
            " 'PIA' 'PMS' 'PSE' 'SDC' 'SEB' 'SFN' 'SSM' 'STP' 'SVN' 'TMC' 'VIT' 'VNT'\n",
            " 'VTC' 'WCS' 'BXH' 'CJC' 'MAS' 'PJC' 'PMP' 'PTS' 'QHD' 'SDG' 'SGD' 'THB'\n",
            " 'TPH' 'TPP' 'VTH' 'AMV' 'FID' 'LBE' 'NTH' 'SGH' 'SMN' 'SPI' 'SRA' 'VE3'\n",
            " 'BBS' 'BPC' 'CTT' 'KST' 'TTT' 'NAP' 'STC' 'CTB' 'HTC' 'PPE' 'PSC' 'TET'\n",
            " 'THS' 'CAN' 'HAT' 'VE8' 'KMT' 'PEN' 'PTD' 'GMA' 'MCC' 'QST' 'X20' 'BDB'\n",
            " 'S55' 'SDU' 'TBX' 'HEV' 'LCD' 'BED' 'ECI' 'BSC' 'CVN' 'KTT' 'DVG' 'TKG'\n",
            " 'VE4' 'SD6' 'HTP' 'TC6' 'TDN' 'L43' 'L62' 'TAR' 'L61' 'DPC' 'SDT' 'CTC'\n",
            " 'MHL' 'TKC' 'SIC' 'DNM' 'LM7' 'BII' 'KVC' 'HHG' 'VKC' 'PVL' 'KLF' 'DZM'\n",
            " 'LUT' 'TTZ' 'MIM' 'ART' 'BLF' 'CTX' 'LCS' 'PDC' 'SD2' 'TST' 'APP' 'C92'\n",
            " 'VIE' 'ACM' 'VXB' 'HPM' 'PHP' 'HBE' 'EBA' 'NHP' 'VE9' 'QNC' 'TCS' 'MSC'\n",
            " 'DPS' 'SJC' 'VAT' 'FDT' 'HNM' 'HST' 'VMI' 'DGL' 'MNC' 'KLS' 'HPS' 'HPC'\n",
            " 'THV' 'TLC' 'AGC' 'HBB']\n",
            "có (376,) Công ty\n"
          ]
        }
      ]
    },
    {
      "cell_type": "code",
      "source": [
        "# Thêm cột <Adj Close> với giá trị bằng cột <Close>\n",
        "dataset['<Adj Close>'] = dataset['<Close>']\n",
        "\n",
        "# Sắp xếp lại các cột để đưa <Adj Close> vào giữa <Close> và <Volume>\n",
        "cols = ['<Ticker>', '<DTYYYYMMDD>', '<Open>', '<High>', '<Low>', '<Close>', '<Adj Close>', '<Volume>']\n",
        "dataset = dataset[cols]\n",
        "\n",
        "# Hiển thị dữ liệu sau khi sắp xếp cột\n",
        "print(dataset)"
      ],
      "metadata": {
        "colab": {
          "base_uri": "https://localhost:8080/"
        },
        "id": "QMDQhz80tSJu",
        "outputId": "babb5a11-6931-4674-b1d6-5cfdebe17d52"
      },
      "execution_count": 16,
      "outputs": [
        {
          "output_type": "stream",
          "name": "stdout",
          "text": [
            "       <Ticker>  <DTYYYYMMDD>   <Open>   <High>    <Low>  <Close>  \\\n",
            "0           AAV      20241218   7.7000   7.9000   7.6000   7.6000   \n",
            "1           ADC      20241218  21.0000  21.0000  21.0000  21.0000   \n",
            "2           ALT      20241218  11.9000  11.9000  11.9000  11.9000   \n",
            "3           AME      20241218   4.7000   4.7000   4.7000   4.7000   \n",
            "4           API      20241218   8.1000   8.2000   7.8000   8.0000   \n",
            "...         ...           ...      ...      ...      ...      ...   \n",
            "832197      SGH      20010725   5.2349   5.2349   5.2349   5.2375   \n",
            "832198      SGH      20010723   4.8997   4.8997   4.8997   4.9022   \n",
            "832199      SGH      20010720   4.5805   4.5805   4.5805   4.5828   \n",
            "832200      SGH      20010718   4.2932   4.2932   4.2932   4.2954   \n",
            "832201      SGH      20010716   4.0219   4.0219   4.0219   4.0239   \n",
            "\n",
            "        <Adj Close>  <Volume>  \n",
            "0            7.6000    863043  \n",
            "1           21.0000         8  \n",
            "2           11.9000       100  \n",
            "3            4.7000       465  \n",
            "4            8.0000    604506  \n",
            "...             ...       ...  \n",
            "832197       5.2375       200  \n",
            "832198       4.9022       300  \n",
            "832199       4.5828       200  \n",
            "832200       4.2954       200  \n",
            "832201       4.0239       200  \n",
            "\n",
            "[832202 rows x 8 columns]\n"
          ]
        }
      ]
    },
    {
      "cell_type": "code",
      "source": [
        "# Chuyển cột <DTYYYYMMDD> thành định dạng datetime nếu cần thiết\n",
        "dataset['<DTYYYYMMDD>'] = pd.to_datetime(dataset['<DTYYYYMMDD>'], format='%Y%m%d')\n",
        "\n",
        "# Lọc dữ liệu từ 20201201 đến 20241218\n",
        "start_date = '2020-12-01'\n",
        "end_date = '2024-12-18'\n",
        "filtered_data = dataset[(dataset['<DTYYYYMMDD>'] >= start_date) & (dataset['<DTYYYYMMDD>'] <= end_date)]\n",
        "\n",
        "# Hiển thị dữ liệu đã lọc\n",
        "print(filtered_data)\n",
        "\n",
        "# Lưu dataset mới vào file CSV nếu cần\n",
        "# filtered_data.to_csv(\"filtered_dataset.csv\", index=False)"
      ],
      "metadata": {
        "colab": {
          "base_uri": "https://localhost:8080/"
        },
        "id": "qlrRiqwtpE7o",
        "outputId": "2ee744e1-aa5e-412c-f6b3-b81fc1724d99"
      },
      "execution_count": 17,
      "outputs": [
        {
          "output_type": "stream",
          "name": "stdout",
          "text": [
            "       <Ticker> <DTYYYYMMDD>    <Open>    <High>     <Low>   <Close>  \\\n",
            "0           AAV   2024-12-18    7.7000    7.9000    7.6000    7.6000   \n",
            "1           ADC   2024-12-18   21.0000   21.0000   21.0000   21.0000   \n",
            "2           ALT   2024-12-18   11.9000   11.9000   11.9000   11.9000   \n",
            "3           AME   2024-12-18    4.7000    4.7000    4.7000    4.7000   \n",
            "4           API   2024-12-18    8.1000    8.2000    7.8000    8.0000   \n",
            "...         ...          ...       ...       ...       ...       ...   \n",
            "248176      VSA   2020-12-01   10.8960   10.8960   10.8960   10.8974   \n",
            "248177      VSM   2020-12-01   10.6459   10.6459    8.7370    8.7378   \n",
            "248178      VTC   2020-12-01    6.3634    7.1490    6.2848    7.1491   \n",
            "248179      WCS   2020-12-01  193.7180  194.6770  193.7180  193.7258   \n",
            "248180      WSS   2020-12-01    2.2000    2.3000    2.2000    2.3000   \n",
            "\n",
            "        <Adj Close>  <Volume>  \n",
            "0            7.6000    863043  \n",
            "1           21.0000         8  \n",
            "2           11.9000       100  \n",
            "3            4.7000       465  \n",
            "4            8.0000    604506  \n",
            "...             ...       ...  \n",
            "248176      10.8974       213  \n",
            "248177       8.7378       300  \n",
            "248178       7.1491      3200  \n",
            "248179     193.7258      2390  \n",
            "248180       2.3000      2200  \n",
            "\n",
            "[248181 rows x 8 columns]\n"
          ]
        }
      ]
    },
    {
      "cell_type": "code",
      "source": [
        "# Lọc tất cả các hàng liên quan đến Ticker = AAV:\n",
        "# Lọc các hàng có giá trị 'AAV' trong cột <Ticker>\n",
        "ticker_aav_dataset = filtered_data[filtered_data['<Ticker>'] == 'AAV']\n",
        "\n",
        "# Hiển thị dữ liệu đã lọc\n",
        "print(ticker_aav_dataset)\n",
        "\n",
        "\n",
        "# Lưu dataset mới vào file CSV nếu cần\n",
        "#ticker_aav.to_csv(\"ticker_aav_dataset.csv\", index=False)"
      ],
      "metadata": {
        "colab": {
          "base_uri": "https://localhost:8080/"
        },
        "id": "en4MQNK6R9xw",
        "outputId": "8ec37443-ca19-40af-a8ed-691a6fbad248"
      },
      "execution_count": 18,
      "outputs": [
        {
          "output_type": "stream",
          "name": "stdout",
          "text": [
            "       <Ticker> <DTYYYYMMDD>  <Open>  <High>   <Low>  <Close>  <Adj Close>  \\\n",
            "0           AAV   2024-12-18  7.7000  7.9000  7.6000   7.6000       7.6000   \n",
            "228         AAV   2024-12-17  7.7000  7.8000  7.5000   7.6000       7.6000   \n",
            "453         AAV   2024-12-16  7.6000  7.7000  7.5000   7.6000       7.6000   \n",
            "687         AAV   2024-12-13  7.6000  7.8000  7.4000   7.6000       7.6000   \n",
            "918         AAV   2024-12-12  7.9000  7.9000  7.6000   7.6000       7.6000   \n",
            "...         ...          ...     ...     ...     ...      ...          ...   \n",
            "247121      AAV   2020-12-07  7.8139  8.5700  7.8139   8.3181       8.3181   \n",
            "247341      AAV   2020-12-04  7.6458  7.8139  7.4778   7.8139       7.8139   \n",
            "247560      AAV   2020-12-03  6.9737  7.6458  6.9737   7.5619       7.5619   \n",
            "247764      AAV   2020-12-02  6.6376  6.9737  6.4695   6.9737       6.9737   \n",
            "247967      AAV   2020-12-01  6.3855  6.7216  5.8814   6.6376       6.6376   \n",
            "\n",
            "        <Volume>  \n",
            "0         863043  \n",
            "228       515064  \n",
            "453       449089  \n",
            "687       715310  \n",
            "918       622878  \n",
            "...          ...  \n",
            "247121    891684  \n",
            "247341    589220  \n",
            "247560    580960  \n",
            "247764    517225  \n",
            "247967    345490  \n",
            "\n",
            "[1010 rows x 8 columns]\n"
          ]
        }
      ]
    },
    {
      "cell_type": "code",
      "source": [
        "cols1 = ['<DTYYYYMMDD>', '<Open>', '<High>', '<Low>', '<Close>', '<Adj Close>', '<Volume>']\n",
        "ticker_aav_dataset = ticker_aav_dataset[cols1]\n",
        "# Hiển thị dữ liệu đã lọc\n",
        "print(ticker_aav_dataset)"
      ],
      "metadata": {
        "colab": {
          "base_uri": "https://localhost:8080/"
        },
        "id": "61YkkIyA7lYR",
        "outputId": "67987a07-8346-43d9-d877-bf296a451e3d"
      },
      "execution_count": 19,
      "outputs": [
        {
          "output_type": "stream",
          "name": "stdout",
          "text": [
            "       <DTYYYYMMDD>  <Open>  <High>   <Low>  <Close>  <Adj Close>  <Volume>\n",
            "0        2024-12-18  7.7000  7.9000  7.6000   7.6000       7.6000    863043\n",
            "228      2024-12-17  7.7000  7.8000  7.5000   7.6000       7.6000    515064\n",
            "453      2024-12-16  7.6000  7.7000  7.5000   7.6000       7.6000    449089\n",
            "687      2024-12-13  7.6000  7.8000  7.4000   7.6000       7.6000    715310\n",
            "918      2024-12-12  7.9000  7.9000  7.6000   7.6000       7.6000    622878\n",
            "...             ...     ...     ...     ...      ...          ...       ...\n",
            "247121   2020-12-07  7.8139  8.5700  7.8139   8.3181       8.3181    891684\n",
            "247341   2020-12-04  7.6458  7.8139  7.4778   7.8139       7.8139    589220\n",
            "247560   2020-12-03  6.9737  7.6458  6.9737   7.5619       7.5619    580960\n",
            "247764   2020-12-02  6.6376  6.9737  6.4695   6.9737       6.9737    517225\n",
            "247967   2020-12-01  6.3855  6.7216  5.8814   6.6376       6.6376    345490\n",
            "\n",
            "[1010 rows x 7 columns]\n"
          ]
        }
      ]
    },
    {
      "cell_type": "code",
      "source": [
        "# Thiết lập cột '<DTYYYYMMDD>' làm chỉ số nếu cần\n",
        "ticker_aav_dataset.set_index('<DTYYYYMMDD>', inplace=True)"
      ],
      "metadata": {
        "id": "_V1oODBKuSuz"
      },
      "execution_count": 20,
      "outputs": []
    },
    {
      "cell_type": "code",
      "source": [
        "ticker_aav_dataset.head(5)"
      ],
      "metadata": {
        "colab": {
          "base_uri": "https://localhost:8080/",
          "height": 237
        },
        "id": "kahRI6LmubVs",
        "outputId": "76c3406c-cec8-43fc-d443-de0b369e9865"
      },
      "execution_count": 21,
      "outputs": [
        {
          "output_type": "execute_result",
          "data": {
            "text/plain": [
              "              <Open>  <High>  <Low>  <Close>  <Adj Close>  <Volume>\n",
              "<DTYYYYMMDD>                                                       \n",
              "2024-12-18       7.7     7.9    7.6      7.6          7.6    863043\n",
              "2024-12-17       7.7     7.8    7.5      7.6          7.6    515064\n",
              "2024-12-16       7.6     7.7    7.5      7.6          7.6    449089\n",
              "2024-12-13       7.6     7.8    7.4      7.6          7.6    715310\n",
              "2024-12-12       7.9     7.9    7.6      7.6          7.6    622878"
            ],
            "text/html": [
              "\n",
              "  <div id=\"df-cc54e8e1-dad4-480b-a8ee-fe509d6e15ff\" class=\"colab-df-container\">\n",
              "    <div>\n",
              "<style scoped>\n",
              "    .dataframe tbody tr th:only-of-type {\n",
              "        vertical-align: middle;\n",
              "    }\n",
              "\n",
              "    .dataframe tbody tr th {\n",
              "        vertical-align: top;\n",
              "    }\n",
              "\n",
              "    .dataframe thead th {\n",
              "        text-align: right;\n",
              "    }\n",
              "</style>\n",
              "<table border=\"1\" class=\"dataframe\">\n",
              "  <thead>\n",
              "    <tr style=\"text-align: right;\">\n",
              "      <th></th>\n",
              "      <th>&lt;Open&gt;</th>\n",
              "      <th>&lt;High&gt;</th>\n",
              "      <th>&lt;Low&gt;</th>\n",
              "      <th>&lt;Close&gt;</th>\n",
              "      <th>&lt;Adj Close&gt;</th>\n",
              "      <th>&lt;Volume&gt;</th>\n",
              "    </tr>\n",
              "    <tr>\n",
              "      <th>&lt;DTYYYYMMDD&gt;</th>\n",
              "      <th></th>\n",
              "      <th></th>\n",
              "      <th></th>\n",
              "      <th></th>\n",
              "      <th></th>\n",
              "      <th></th>\n",
              "    </tr>\n",
              "  </thead>\n",
              "  <tbody>\n",
              "    <tr>\n",
              "      <th>2024-12-18</th>\n",
              "      <td>7.7</td>\n",
              "      <td>7.9</td>\n",
              "      <td>7.6</td>\n",
              "      <td>7.6</td>\n",
              "      <td>7.6</td>\n",
              "      <td>863043</td>\n",
              "    </tr>\n",
              "    <tr>\n",
              "      <th>2024-12-17</th>\n",
              "      <td>7.7</td>\n",
              "      <td>7.8</td>\n",
              "      <td>7.5</td>\n",
              "      <td>7.6</td>\n",
              "      <td>7.6</td>\n",
              "      <td>515064</td>\n",
              "    </tr>\n",
              "    <tr>\n",
              "      <th>2024-12-16</th>\n",
              "      <td>7.6</td>\n",
              "      <td>7.7</td>\n",
              "      <td>7.5</td>\n",
              "      <td>7.6</td>\n",
              "      <td>7.6</td>\n",
              "      <td>449089</td>\n",
              "    </tr>\n",
              "    <tr>\n",
              "      <th>2024-12-13</th>\n",
              "      <td>7.6</td>\n",
              "      <td>7.8</td>\n",
              "      <td>7.4</td>\n",
              "      <td>7.6</td>\n",
              "      <td>7.6</td>\n",
              "      <td>715310</td>\n",
              "    </tr>\n",
              "    <tr>\n",
              "      <th>2024-12-12</th>\n",
              "      <td>7.9</td>\n",
              "      <td>7.9</td>\n",
              "      <td>7.6</td>\n",
              "      <td>7.6</td>\n",
              "      <td>7.6</td>\n",
              "      <td>622878</td>\n",
              "    </tr>\n",
              "  </tbody>\n",
              "</table>\n",
              "</div>\n",
              "    <div class=\"colab-df-buttons\">\n",
              "\n",
              "  <div class=\"colab-df-container\">\n",
              "    <button class=\"colab-df-convert\" onclick=\"convertToInteractive('df-cc54e8e1-dad4-480b-a8ee-fe509d6e15ff')\"\n",
              "            title=\"Convert this dataframe to an interactive table.\"\n",
              "            style=\"display:none;\">\n",
              "\n",
              "  <svg xmlns=\"http://www.w3.org/2000/svg\" height=\"24px\" viewBox=\"0 -960 960 960\">\n",
              "    <path d=\"M120-120v-720h720v720H120Zm60-500h600v-160H180v160Zm220 220h160v-160H400v160Zm0 220h160v-160H400v160ZM180-400h160v-160H180v160Zm440 0h160v-160H620v160ZM180-180h160v-160H180v160Zm440 0h160v-160H620v160Z\"/>\n",
              "  </svg>\n",
              "    </button>\n",
              "\n",
              "  <style>\n",
              "    .colab-df-container {\n",
              "      display:flex;\n",
              "      gap: 12px;\n",
              "    }\n",
              "\n",
              "    .colab-df-convert {\n",
              "      background-color: #E8F0FE;\n",
              "      border: none;\n",
              "      border-radius: 50%;\n",
              "      cursor: pointer;\n",
              "      display: none;\n",
              "      fill: #1967D2;\n",
              "      height: 32px;\n",
              "      padding: 0 0 0 0;\n",
              "      width: 32px;\n",
              "    }\n",
              "\n",
              "    .colab-df-convert:hover {\n",
              "      background-color: #E2EBFA;\n",
              "      box-shadow: 0px 1px 2px rgba(60, 64, 67, 0.3), 0px 1px 3px 1px rgba(60, 64, 67, 0.15);\n",
              "      fill: #174EA6;\n",
              "    }\n",
              "\n",
              "    .colab-df-buttons div {\n",
              "      margin-bottom: 4px;\n",
              "    }\n",
              "\n",
              "    [theme=dark] .colab-df-convert {\n",
              "      background-color: #3B4455;\n",
              "      fill: #D2E3FC;\n",
              "    }\n",
              "\n",
              "    [theme=dark] .colab-df-convert:hover {\n",
              "      background-color: #434B5C;\n",
              "      box-shadow: 0px 1px 3px 1px rgba(0, 0, 0, 0.15);\n",
              "      filter: drop-shadow(0px 1px 2px rgba(0, 0, 0, 0.3));\n",
              "      fill: #FFFFFF;\n",
              "    }\n",
              "  </style>\n",
              "\n",
              "    <script>\n",
              "      const buttonEl =\n",
              "        document.querySelector('#df-cc54e8e1-dad4-480b-a8ee-fe509d6e15ff button.colab-df-convert');\n",
              "      buttonEl.style.display =\n",
              "        google.colab.kernel.accessAllowed ? 'block' : 'none';\n",
              "\n",
              "      async function convertToInteractive(key) {\n",
              "        const element = document.querySelector('#df-cc54e8e1-dad4-480b-a8ee-fe509d6e15ff');\n",
              "        const dataTable =\n",
              "          await google.colab.kernel.invokeFunction('convertToInteractive',\n",
              "                                                    [key], {});\n",
              "        if (!dataTable) return;\n",
              "\n",
              "        const docLinkHtml = 'Like what you see? Visit the ' +\n",
              "          '<a target=\"_blank\" href=https://colab.research.google.com/notebooks/data_table.ipynb>data table notebook</a>'\n",
              "          + ' to learn more about interactive tables.';\n",
              "        element.innerHTML = '';\n",
              "        dataTable['output_type'] = 'display_data';\n",
              "        await google.colab.output.renderOutput(dataTable, element);\n",
              "        const docLink = document.createElement('div');\n",
              "        docLink.innerHTML = docLinkHtml;\n",
              "        element.appendChild(docLink);\n",
              "      }\n",
              "    </script>\n",
              "  </div>\n",
              "\n",
              "\n",
              "<div id=\"df-12033549-616a-4b6a-bc58-98db72516c54\">\n",
              "  <button class=\"colab-df-quickchart\" onclick=\"quickchart('df-12033549-616a-4b6a-bc58-98db72516c54')\"\n",
              "            title=\"Suggest charts\"\n",
              "            style=\"display:none;\">\n",
              "\n",
              "<svg xmlns=\"http://www.w3.org/2000/svg\" height=\"24px\"viewBox=\"0 0 24 24\"\n",
              "     width=\"24px\">\n",
              "    <g>\n",
              "        <path d=\"M19 3H5c-1.1 0-2 .9-2 2v14c0 1.1.9 2 2 2h14c1.1 0 2-.9 2-2V5c0-1.1-.9-2-2-2zM9 17H7v-7h2v7zm4 0h-2V7h2v10zm4 0h-2v-4h2v4z\"/>\n",
              "    </g>\n",
              "</svg>\n",
              "  </button>\n",
              "\n",
              "<style>\n",
              "  .colab-df-quickchart {\n",
              "      --bg-color: #E8F0FE;\n",
              "      --fill-color: #1967D2;\n",
              "      --hover-bg-color: #E2EBFA;\n",
              "      --hover-fill-color: #174EA6;\n",
              "      --disabled-fill-color: #AAA;\n",
              "      --disabled-bg-color: #DDD;\n",
              "  }\n",
              "\n",
              "  [theme=dark] .colab-df-quickchart {\n",
              "      --bg-color: #3B4455;\n",
              "      --fill-color: #D2E3FC;\n",
              "      --hover-bg-color: #434B5C;\n",
              "      --hover-fill-color: #FFFFFF;\n",
              "      --disabled-bg-color: #3B4455;\n",
              "      --disabled-fill-color: #666;\n",
              "  }\n",
              "\n",
              "  .colab-df-quickchart {\n",
              "    background-color: var(--bg-color);\n",
              "    border: none;\n",
              "    border-radius: 50%;\n",
              "    cursor: pointer;\n",
              "    display: none;\n",
              "    fill: var(--fill-color);\n",
              "    height: 32px;\n",
              "    padding: 0;\n",
              "    width: 32px;\n",
              "  }\n",
              "\n",
              "  .colab-df-quickchart:hover {\n",
              "    background-color: var(--hover-bg-color);\n",
              "    box-shadow: 0 1px 2px rgba(60, 64, 67, 0.3), 0 1px 3px 1px rgba(60, 64, 67, 0.15);\n",
              "    fill: var(--button-hover-fill-color);\n",
              "  }\n",
              "\n",
              "  .colab-df-quickchart-complete:disabled,\n",
              "  .colab-df-quickchart-complete:disabled:hover {\n",
              "    background-color: var(--disabled-bg-color);\n",
              "    fill: var(--disabled-fill-color);\n",
              "    box-shadow: none;\n",
              "  }\n",
              "\n",
              "  .colab-df-spinner {\n",
              "    border: 2px solid var(--fill-color);\n",
              "    border-color: transparent;\n",
              "    border-bottom-color: var(--fill-color);\n",
              "    animation:\n",
              "      spin 1s steps(1) infinite;\n",
              "  }\n",
              "\n",
              "  @keyframes spin {\n",
              "    0% {\n",
              "      border-color: transparent;\n",
              "      border-bottom-color: var(--fill-color);\n",
              "      border-left-color: var(--fill-color);\n",
              "    }\n",
              "    20% {\n",
              "      border-color: transparent;\n",
              "      border-left-color: var(--fill-color);\n",
              "      border-top-color: var(--fill-color);\n",
              "    }\n",
              "    30% {\n",
              "      border-color: transparent;\n",
              "      border-left-color: var(--fill-color);\n",
              "      border-top-color: var(--fill-color);\n",
              "      border-right-color: var(--fill-color);\n",
              "    }\n",
              "    40% {\n",
              "      border-color: transparent;\n",
              "      border-right-color: var(--fill-color);\n",
              "      border-top-color: var(--fill-color);\n",
              "    }\n",
              "    60% {\n",
              "      border-color: transparent;\n",
              "      border-right-color: var(--fill-color);\n",
              "    }\n",
              "    80% {\n",
              "      border-color: transparent;\n",
              "      border-right-color: var(--fill-color);\n",
              "      border-bottom-color: var(--fill-color);\n",
              "    }\n",
              "    90% {\n",
              "      border-color: transparent;\n",
              "      border-bottom-color: var(--fill-color);\n",
              "    }\n",
              "  }\n",
              "</style>\n",
              "\n",
              "  <script>\n",
              "    async function quickchart(key) {\n",
              "      const quickchartButtonEl =\n",
              "        document.querySelector('#' + key + ' button');\n",
              "      quickchartButtonEl.disabled = true;  // To prevent multiple clicks.\n",
              "      quickchartButtonEl.classList.add('colab-df-spinner');\n",
              "      try {\n",
              "        const charts = await google.colab.kernel.invokeFunction(\n",
              "            'suggestCharts', [key], {});\n",
              "      } catch (error) {\n",
              "        console.error('Error during call to suggestCharts:', error);\n",
              "      }\n",
              "      quickchartButtonEl.classList.remove('colab-df-spinner');\n",
              "      quickchartButtonEl.classList.add('colab-df-quickchart-complete');\n",
              "    }\n",
              "    (() => {\n",
              "      let quickchartButtonEl =\n",
              "        document.querySelector('#df-12033549-616a-4b6a-bc58-98db72516c54 button');\n",
              "      quickchartButtonEl.style.display =\n",
              "        google.colab.kernel.accessAllowed ? 'block' : 'none';\n",
              "    })();\n",
              "  </script>\n",
              "</div>\n",
              "\n",
              "    </div>\n",
              "  </div>\n"
            ],
            "application/vnd.google.colaboratory.intrinsic+json": {
              "type": "dataframe",
              "variable_name": "ticker_aav_dataset",
              "summary": "{\n  \"name\": \"ticker_aav_dataset\",\n  \"rows\": 1010,\n  \"fields\": [\n    {\n      \"column\": \"<DTYYYYMMDD>\",\n      \"properties\": {\n        \"dtype\": \"date\",\n        \"min\": \"2020-12-01 00:00:00\",\n        \"max\": \"2024-12-18 00:00:00\",\n        \"num_unique_values\": 1010,\n        \"samples\": [\n          \"2022-06-15 00:00:00\",\n          \"2021-10-21 00:00:00\",\n          \"2022-03-24 00:00:00\"\n        ],\n        \"semantic_type\": \"\",\n        \"description\": \"\"\n      }\n    },\n    {\n      \"column\": \"<Open>\",\n      \"properties\": {\n        \"dtype\": \"number\",\n        \"std\": 6.970911077971319,\n        \"min\": 2.6,\n        \"max\": 31.2083,\n        \"num_unique_values\": 310,\n        \"samples\": [\n          9.0742,\n          6.1,\n          9.4\n        ],\n        \"semantic_type\": \"\",\n        \"description\": \"\"\n      }\n    },\n    {\n      \"column\": \"<High>\",\n      \"properties\": {\n        \"dtype\": \"number\",\n        \"std\": 7.171707984275551,\n        \"min\": 3.0,\n        \"max\": 32.8508,\n        \"num_unique_values\": 313,\n        \"samples\": [\n          5.1,\n          6.2,\n          28.7928\n        ],\n        \"semantic_type\": \"\",\n        \"description\": \"\"\n      }\n    },\n    {\n      \"column\": \"<Low>\",\n      \"properties\": {\n        \"dtype\": \"number\",\n        \"std\": 6.78791159713889,\n        \"min\": 2.6,\n        \"max\": 29.9522,\n        \"num_unique_values\": 301,\n        \"samples\": [\n          26.0874,\n          11.7628,\n          16.4237\n        ],\n        \"semantic_type\": \"\",\n        \"description\": \"\"\n      }\n    },\n    {\n      \"column\": \"<Close>\",\n      \"properties\": {\n        \"dtype\": \"number\",\n        \"std\": 6.955391570491669,\n        \"min\": 2.8,\n        \"max\": 31.015,\n        \"num_unique_values\": 256,\n        \"samples\": [\n          11.0067,\n          6.6,\n          7.2465\n        ],\n        \"semantic_type\": \"\",\n        \"description\": \"\"\n      }\n    },\n    {\n      \"column\": \"<Adj Close>\",\n      \"properties\": {\n        \"dtype\": \"number\",\n        \"std\": 6.955391570491669,\n        \"min\": 2.8,\n        \"max\": 31.015,\n        \"num_unique_values\": 256,\n        \"samples\": [\n          11.0067,\n          6.6,\n          7.2465\n        ],\n        \"semantic_type\": \"\",\n        \"description\": \"\"\n      }\n    },\n    {\n      \"column\": \"<Volume>\",\n      \"properties\": {\n        \"dtype\": \"number\",\n        \"std\": 618897,\n        \"min\": 36665,\n        \"max\": 5704704,\n        \"num_unique_values\": 1007,\n        \"samples\": [\n          243700,\n          335738,\n          285499\n        ],\n        \"semantic_type\": \"\",\n        \"description\": \"\"\n      }\n    }\n  ]\n}"
            }
          },
          "metadata": {},
          "execution_count": 21
        }
      ]
    },
    {
      "cell_type": "code",
      "execution_count": 22,
      "metadata": {
        "colab": {
          "base_uri": "https://localhost:8080/",
          "height": 537
        },
        "id": "tjXtlyTJYhTo",
        "outputId": "03a9fbfd-e1d2-4b5a-d186-de14b93f31a1"
      },
      "outputs": [
        {
          "output_type": "display_data",
          "data": {
            "text/plain": [
              "<Figure size 1000x600 with 1 Axes>"
            ],
            "image/png": "[encoded data removed]"
          },
          "metadata": {}
        }
      ],
      "source": [
        "ticker_aav_dataset['<Close>'].plot(figsize=(10, 6), title='Closing Price for Ticker AAV', xlabel='Date', ylabel='Close Price')\n",
        "plt.grid()\n",
        "plt.show()"
      ]
    },
    {
      "cell_type": "code",
      "execution_count": 23,
      "metadata": {
        "_cell_guid": "7bffeec0-5bbc-fffb-18f2-3da56b862ca3",
        "colab": {
          "base_uri": "https://localhost:8080/",
          "height": 300
        },
        "id": "1Qo7vVQjYhTo",
        "outputId": "c8eaef3a-3827-4497-9478-2cb1aa77d120"
      },
      "outputs": [
        {
          "output_type": "execute_result",
          "data": {
            "text/plain": [
              "         <Open>    <High>     <Low>   <Close>  <Adj Close>   <Volume>\n",
              "count  1010.000  1010.000  1010.000  1010.000     1010.000  1.010e+03\n",
              "mean      9.948    10.238     9.655     9.933        9.933  6.030e+05\n",
              "std       6.971     7.172     6.788     6.955        6.955  6.189e+05\n",
              "min       2.600     3.000     2.600     2.800        2.800  3.666e+04\n",
              "25%       4.725     4.925     4.600     4.800        4.800  2.381e+05\n",
              "50%       6.600     6.800     6.300     6.600        6.600  3.958e+05\n",
              "75%      12.603    13.023    12.246    12.603       12.603  7.770e+05\n",
              "max      31.208    32.851    29.952    31.015       31.015  5.705e+06"
            ],
            "text/html": [
              "\n",
              "  <div id=\"df-7233724b-d1a0-453c-82e9-62b396a203e7\" class=\"colab-df-container\">\n",
              "    <div>\n",
              "<style scoped>\n",
              "    .dataframe tbody tr th:only-of-type {\n",
              "        vertical-align: middle;\n",
              "    }\n",
              "\n",
              "    .dataframe tbody tr th {\n",
              "        vertical-align: top;\n",
              "    }\n",
              "\n",
              "    .dataframe thead th {\n",
              "        text-align: right;\n",
              "    }\n",
              "</style>\n",
              "<table border=\"1\" class=\"dataframe\">\n",
              "  <thead>\n",
              "    <tr style=\"text-align: right;\">\n",
              "      <th></th>\n",
              "      <th>&lt;Open&gt;</th>\n",
              "      <th>&lt;High&gt;</th>\n",
              "      <th>&lt;Low&gt;</th>\n",
              "      <th>&lt;Close&gt;</th>\n",
              "      <th>&lt;Adj Close&gt;</th>\n",
              "      <th>&lt;Volume&gt;</th>\n",
              "    </tr>\n",
              "  </thead>\n",
              "  <tbody>\n",
              "    <tr>\n",
              "      <th>count</th>\n",
              "      <td>1010.000</td>\n",
              "      <td>1010.000</td>\n",
              "      <td>1010.000</td>\n",
              "      <td>1010.000</td>\n",
              "      <td>1010.000</td>\n",
              "      <td>1.010e+03</td>\n",
              "    </tr>\n",
              "    <tr>\n",
              "      <th>mean</th>\n",
              "      <td>9.948</td>\n",
              "      <td>10.238</td>\n",
              "      <td>9.655</td>\n",
              "      <td>9.933</td>\n",
              "      <td>9.933</td>\n",
              "      <td>6.030e+05</td>\n",
              "    </tr>\n",
              "    <tr>\n",
              "      <th>std</th>\n",
              "      <td>6.971</td>\n",
              "      <td>7.172</td>\n",
              "      <td>6.788</td>\n",
              "      <td>6.955</td>\n",
              "      <td>6.955</td>\n",
              "      <td>6.189e+05</td>\n",
              "    </tr>\n",
              "    <tr>\n",
              "      <th>min</th>\n",
              "      <td>2.600</td>\n",
              "      <td>3.000</td>\n",
              "      <td>2.600</td>\n",
              "      <td>2.800</td>\n",
              "      <td>2.800</td>\n",
              "      <td>3.666e+04</td>\n",
              "    </tr>\n",
              "    <tr>\n",
              "      <th>25%</th>\n",
              "      <td>4.725</td>\n",
              "      <td>4.925</td>\n",
              "      <td>4.600</td>\n",
              "      <td>4.800</td>\n",
              "      <td>4.800</td>\n",
              "      <td>2.381e+05</td>\n",
              "    </tr>\n",
              "    <tr>\n",
              "      <th>50%</th>\n",
              "      <td>6.600</td>\n",
              "      <td>6.800</td>\n",
              "      <td>6.300</td>\n",
              "      <td>6.600</td>\n",
              "      <td>6.600</td>\n",
              "      <td>3.958e+05</td>\n",
              "    </tr>\n",
              "    <tr>\n",
              "      <th>75%</th>\n",
              "      <td>12.603</td>\n",
              "      <td>13.023</td>\n",
              "      <td>12.246</td>\n",
              "      <td>12.603</td>\n",
              "      <td>12.603</td>\n",
              "      <td>7.770e+05</td>\n",
              "    </tr>\n",
              "    <tr>\n",
              "      <th>max</th>\n",
              "      <td>31.208</td>\n",
              "      <td>32.851</td>\n",
              "      <td>29.952</td>\n",
              "      <td>31.015</td>\n",
              "      <td>31.015</td>\n",
              "      <td>5.705e+06</td>\n",
              "    </tr>\n",
              "  </tbody>\n",
              "</table>\n",
              "</div>\n",
              "    <div class=\"colab-df-buttons\">\n",
              "\n",
              "  <div class=\"colab-df-container\">\n",
              "    <button class=\"colab-df-convert\" onclick=\"convertToInteractive('df-7233724b-d1a0-453c-82e9-62b396a203e7')\"\n",
              "            title=\"Convert this dataframe to an interactive table.\"\n",
              "            style=\"display:none;\">\n",
              "\n",
              "  <svg xmlns=\"http://www.w3.org/2000/svg\" height=\"24px\" viewBox=\"0 -960 960 960\">\n",
              "    <path d=\"M120-120v-720h720v720H120Zm60-500h600v-160H180v160Zm220 220h160v-160H400v160Zm0 220h160v-160H400v160ZM180-400h160v-160H180v160Zm440 0h160v-160H620v160ZM180-180h160v-160H180v160Zm440 0h160v-160H620v160Z\"/>\n",
              "  </svg>\n",
              "    </button>\n",
              "\n",
              "  <style>\n",
              "    .colab-df-container {\n",
              "      display:flex;\n",
              "      gap: 12px;\n",
              "    }\n",
              "\n",
              "    .colab-df-convert {\n",
              "      background-color: #E8F0FE;\n",
              "      border: none;\n",
              "      border-radius: 50%;\n",
              "      cursor: pointer;\n",
              "      display: none;\n",
              "      fill: #1967D2;\n",
              "      height: 32px;\n",
              "      padding: 0 0 0 0;\n",
              "      width: 32px;\n",
              "    }\n",
              "\n",
              "    .colab-df-convert:hover {\n",
              "      background-color: #E2EBFA;\n",
              "      box-shadow: 0px 1px 2px rgba(60, 64, 67, 0.3), 0px 1px 3px 1px rgba(60, 64, 67, 0.15);\n",
              "      fill: #174EA6;\n",
              "    }\n",
              "\n",
              "    .colab-df-buttons div {\n",
              "      margin-bottom: 4px;\n",
              "    }\n",
              "\n",
              "    [theme=dark] .colab-df-convert {\n",
              "      background-color: #3B4455;\n",
              "      fill: #D2E3FC;\n",
              "    }\n",
              "\n",
              "    [theme=dark] .colab-df-convert:hover {\n",
              "      background-color: #434B5C;\n",
              "      box-shadow: 0px 1px 3px 1px rgba(0, 0, 0, 0.15);\n",
              "      filter: drop-shadow(0px 1px 2px rgba(0, 0, 0, 0.3));\n",
              "      fill: #FFFFFF;\n",
              "    }\n",
              "  </style>\n",
              "\n",
              "    <script>\n",
              "      const buttonEl =\n",
              "        document.querySelector('#df-7233724b-d1a0-453c-82e9-62b396a203e7 button.colab-df-convert');\n",
              "      buttonEl.style.display =\n",
              "        google.colab.kernel.accessAllowed ? 'block' : 'none';\n",
              "\n",
              "      async function convertToInteractive(key) {\n",
              "        const element = document.querySelector('#df-7233724b-d1a0-453c-82e9-62b396a203e7');\n",
              "        const dataTable =\n",
              "          await google.colab.kernel.invokeFunction('convertToInteractive',\n",
              "                                                    [key], {});\n",
              "        if (!dataTable) return;\n",
              "\n",
              "        const docLinkHtml = 'Like what you see? Visit the ' +\n",
              "          '<a target=\"_blank\" href=https://colab.research.google.com/notebooks/data_table.ipynb>data table notebook</a>'\n",
              "          + ' to learn more about interactive tables.';\n",
              "        element.innerHTML = '';\n",
              "        dataTable['output_type'] = 'display_data';\n",
              "        await google.colab.output.renderOutput(dataTable, element);\n",
              "        const docLink = document.createElement('div');\n",
              "        docLink.innerHTML = docLinkHtml;\n",
              "        element.appendChild(docLink);\n",
              "      }\n",
              "    </script>\n",
              "  </div>\n",
              "\n",
              "\n",
              "<div id=\"df-d45cb6e8-b8f2-4a2a-b085-606941c9af1f\">\n",
              "  <button class=\"colab-df-quickchart\" onclick=\"quickchart('df-d45cb6e8-b8f2-4a2a-b085-606941c9af1f')\"\n",
              "            title=\"Suggest charts\"\n",
              "            style=\"display:none;\">\n",
              "\n",
              "<svg xmlns=\"http://www.w3.org/2000/svg\" height=\"24px\"viewBox=\"0 0 24 24\"\n",
              "     width=\"24px\">\n",
              "    <g>\n",
              "        <path d=\"M19 3H5c-1.1 0-2 .9-2 2v14c0 1.1.9 2 2 2h14c1.1 0 2-.9 2-2V5c0-1.1-.9-2-2-2zM9 17H7v-7h2v7zm4 0h-2V7h2v10zm4 0h-2v-4h2v4z\"/>\n",
              "    </g>\n",
              "</svg>\n",
              "  </button>\n",
              "\n",
              "<style>\n",
              "  .colab-df-quickchart {\n",
              "      --bg-color: #E8F0FE;\n",
              "      --fill-color: #1967D2;\n",
              "      --hover-bg-color: #E2EBFA;\n",
              "      --hover-fill-color: #174EA6;\n",
              "      --disabled-fill-color: #AAA;\n",
              "      --disabled-bg-color: #DDD;\n",
              "  }\n",
              "\n",
              "  [theme=dark] .colab-df-quickchart {\n",
              "      --bg-color: #3B4455;\n",
              "      --fill-color: #D2E3FC;\n",
              "      --hover-bg-color: #434B5C;\n",
              "      --hover-fill-color: #FFFFFF;\n",
              "      --disabled-bg-color: #3B4455;\n",
              "      --disabled-fill-color: #666;\n",
              "  }\n",
              "\n",
              "  .colab-df-quickchart {\n",
              "    background-color: var(--bg-color);\n",
              "    border: none;\n",
              "    border-radius: 50%;\n",
              "    cursor: pointer;\n",
              "    display: none;\n",
              "    fill: var(--fill-color);\n",
              "    height: 32px;\n",
              "    padding: 0;\n",
              "    width: 32px;\n",
              "  }\n",
              "\n",
              "  .colab-df-quickchart:hover {\n",
              "    background-color: var(--hover-bg-color);\n",
              "    box-shadow: 0 1px 2px rgba(60, 64, 67, 0.3), 0 1px 3px 1px rgba(60, 64, 67, 0.15);\n",
              "    fill: var(--button-hover-fill-color);\n",
              "  }\n",
              "\n",
              "  .colab-df-quickchart-complete:disabled,\n",
              "  .colab-df-quickchart-complete:disabled:hover {\n",
              "    background-color: var(--disabled-bg-color);\n",
              "    fill: var(--disabled-fill-color);\n",
              "    box-shadow: none;\n",
              "  }\n",
              "\n",
              "  .colab-df-spinner {\n",
              "    border: 2px solid var(--fill-color);\n",
              "    border-color: transparent;\n",
              "    border-bottom-color: var(--fill-color);\n",
              "    animation:\n",
              "      spin 1s steps(1) infinite;\n",
              "  }\n",
              "\n",
              "  @keyframes spin {\n",
              "    0% {\n",
              "      border-color: transparent;\n",
              "      border-bottom-color: var(--fill-color);\n",
              "      border-left-color: var(--fill-color);\n",
              "    }\n",
              "    20% {\n",
              "      border-color: transparent;\n",
              "      border-left-color: var(--fill-color);\n",
              "      border-top-color: var(--fill-color);\n",
              "    }\n",
              "    30% {\n",
              "      border-color: transparent;\n",
              "      border-left-color: var(--fill-color);\n",
              "      border-top-color: var(--fill-color);\n",
              "      border-right-color: var(--fill-color);\n",
              "    }\n",
              "    40% {\n",
              "      border-color: transparent;\n",
              "      border-right-color: var(--fill-color);\n",
              "      border-top-color: var(--fill-color);\n",
              "    }\n",
              "    60% {\n",
              "      border-color: transparent;\n",
              "      border-right-color: var(--fill-color);\n",
              "    }\n",
              "    80% {\n",
              "      border-color: transparent;\n",
              "      border-right-color: var(--fill-color);\n",
              "      border-bottom-color: var(--fill-color);\n",
              "    }\n",
              "    90% {\n",
              "      border-color: transparent;\n",
              "      border-bottom-color: var(--fill-color);\n",
              "    }\n",
              "  }\n",
              "</style>\n",
              "\n",
              "  <script>\n",
              "    async function quickchart(key) {\n",
              "      const quickchartButtonEl =\n",
              "        document.querySelector('#' + key + ' button');\n",
              "      quickchartButtonEl.disabled = true;  // To prevent multiple clicks.\n",
              "      quickchartButtonEl.classList.add('colab-df-spinner');\n",
              "      try {\n",
              "        const charts = await google.colab.kernel.invokeFunction(\n",
              "            'suggestCharts', [key], {});\n",
              "      } catch (error) {\n",
              "        console.error('Error during call to suggestCharts:', error);\n",
              "      }\n",
              "      quickchartButtonEl.classList.remove('colab-df-spinner');\n",
              "      quickchartButtonEl.classList.add('colab-df-quickchart-complete');\n",
              "    }\n",
              "    (() => {\n",
              "      let quickchartButtonEl =\n",
              "        document.querySelector('#df-d45cb6e8-b8f2-4a2a-b085-606941c9af1f button');\n",
              "      quickchartButtonEl.style.display =\n",
              "        google.colab.kernel.accessAllowed ? 'block' : 'none';\n",
              "    })();\n",
              "  </script>\n",
              "</div>\n",
              "\n",
              "    </div>\n",
              "  </div>\n"
            ],
            "application/vnd.google.colaboratory.intrinsic+json": {
              "type": "dataframe",
              "summary": "{\n  \"name\": \"ticker_aav_dataset\",\n  \"rows\": 8,\n  \"fields\": [\n    {\n      \"column\": \"<Open>\",\n      \"properties\": {\n        \"dtype\": \"number\",\n        \"std\": 353.4307959065651,\n        \"min\": 2.6,\n        \"max\": 1010.0,\n        \"num_unique_values\": 8,\n        \"samples\": [\n          9.94834702970297,\n          6.6,\n          1010.0\n        ],\n        \"semantic_type\": \"\",\n        \"description\": \"\"\n      }\n    },\n    {\n      \"column\": \"<High>\",\n      \"properties\": {\n        \"dtype\": \"number\",\n        \"std\": 353.2733049622406,\n        \"min\": 3.0,\n        \"max\": 1010.0,\n        \"num_unique_values\": 8,\n        \"samples\": [\n          10.237938316831682,\n          6.8,\n          1010.0\n        ],\n        \"semantic_type\": \"\",\n        \"description\": \"\"\n      }\n    },\n    {\n      \"column\": \"<Low>\",\n      \"properties\": {\n        \"dtype\": \"number\",\n        \"std\": 353.5483956660168,\n        \"min\": 2.6,\n        \"max\": 1010.0,\n        \"num_unique_values\": 8,\n        \"samples\": [\n          9.655312277227724,\n          6.3,\n          1010.0\n        ],\n        \"semantic_type\": \"\",\n        \"description\": \"\"\n      }\n    },\n    {\n      \"column\": \"<Close>\",\n      \"properties\": {\n        \"dtype\": \"number\",\n        \"std\": 353.42581813025276,\n        \"min\": 2.8,\n        \"max\": 1010.0,\n        \"num_unique_values\": 8,\n        \"samples\": [\n          9.933263663366338,\n          6.6,\n          1010.0\n        ],\n        \"semantic_type\": \"\",\n        \"description\": \"\"\n      }\n    },\n    {\n      \"column\": \"<Adj Close>\",\n      \"properties\": {\n        \"dtype\": \"number\",\n        \"std\": 353.42581813025276,\n        \"min\": 2.8,\n        \"max\": 1010.0,\n        \"num_unique_values\": 8,\n        \"samples\": [\n          9.933263663366338,\n          6.6,\n          1010.0\n        ],\n        \"semantic_type\": \"\",\n        \"description\": \"\"\n      }\n    },\n    {\n      \"column\": \"<Volume>\",\n      \"properties\": {\n        \"dtype\": \"number\",\n        \"std\": 1902660.4541052466,\n        \"min\": 1010.0,\n        \"max\": 5704704.0,\n        \"num_unique_values\": 8,\n        \"samples\": [\n          603038.2861386138,\n          395784.5,\n          1010.0\n        ],\n        \"semantic_type\": \"\",\n        \"description\": \"\"\n      }\n    }\n  ]\n}"
            }
          },
          "metadata": {},
          "execution_count": 23
        }
      ],
      "source": [
        "# describe data\n",
        "set_option('display.precision', 3)\n",
        "ticker_aav_dataset.describe()"
      ]
    },
    {
      "cell_type": "markdown",
      "metadata": {
        "id": "TLfwz5i8YhTo"
      },
      "source": [
        "Let us look at the plot of the stock movement."
      ]
    },
    {
      "cell_type": "markdown",
      "metadata": {
        "id": "ME7sCaoqYhTo"
      },
      "source": [
        "<a id='3'></a>\n",
        "## 4. Data Preparation"
      ]
    },
    {
      "cell_type": "markdown",
      "metadata": {
        "id": "B1rabjxhYhTo"
      },
      "source": [
        "<a id='3.1'></a>\n",
        "## 4.1. Data Cleaning\n",
        "Let us check for the NAs in the rows, either drop them or fill them with the mean of the column"
      ]
    },
    {
      "cell_type": "code",
      "execution_count": 24,
      "metadata": {
        "colab": {
          "base_uri": "https://localhost:8080/"
        },
        "id": "KpmKsfpmYhTp",
        "outputId": "3d55fa68-c220-4493-b8be-b34463de0d65"
      },
      "outputs": [
        {
          "output_type": "stream",
          "name": "stdout",
          "text": [
            "Null Values = False\n"
          ]
        }
      ],
      "source": [
        "#Checking for any null values and removing the null values'''\n",
        "print('Null Values =',ticker_aav_dataset.isnull().values.any())"
      ]
    },
    {
      "cell_type": "markdown",
      "metadata": {
        "id": "4-YBe8SNYhTp"
      },
      "source": [
        "In case there are null values fill the missing values with the last value available in the dataset."
      ]
    },
    {
      "cell_type": "code",
      "execution_count": 25,
      "metadata": {
        "colab": {
          "base_uri": "https://localhost:8080/",
          "height": 237
        },
        "id": "tPegORA8YhTp",
        "outputId": "ea077b67-2a99-4a37-a551-96aa5b4f4089"
      },
      "outputs": [
        {
          "output_type": "execute_result",
          "data": {
            "text/plain": [
              "              <Open>  <High>  <Low>  <Close>  <Adj Close>  <Volume>\n",
              "<DTYYYYMMDD>                                                       \n",
              "2024-12-18       7.7     7.9    7.6      7.6          7.6    863043\n",
              "2024-12-17       7.7     7.8    7.5      7.6          7.6    515064\n",
              "2024-12-16       7.6     7.7    7.5      7.6          7.6    449089\n",
              "2024-12-13       7.6     7.8    7.4      7.6          7.6    715310\n",
              "2024-12-12       7.9     7.9    7.6      7.6          7.6    622878"
            ],
            "text/html": [
              "\n",
              "  <div id=\"df-a99441ce-7027-438a-8623-f432f058e218\" class=\"colab-df-container\">\n",
              "    <div>\n",
              "<style scoped>\n",
              "    .dataframe tbody tr th:only-of-type {\n",
              "        vertical-align: middle;\n",
              "    }\n",
              "\n",
              "    .dataframe tbody tr th {\n",
              "        vertical-align: top;\n",
              "    }\n",
              "\n",
              "    .dataframe thead th {\n",
              "        text-align: right;\n",
              "    }\n",
              "</style>\n",
              "<table border=\"1\" class=\"dataframe\">\n",
              "  <thead>\n",
              "    <tr style=\"text-align: right;\">\n",
              "      <th></th>\n",
              "      <th>&lt;Open&gt;</th>\n",
              "      <th>&lt;High&gt;</th>\n",
              "      <th>&lt;Low&gt;</th>\n",
              "      <th>&lt;Close&gt;</th>\n",
              "      <th>&lt;Adj Close&gt;</th>\n",
              "      <th>&lt;Volume&gt;</th>\n",
              "    </tr>\n",
              "    <tr>\n",
              "      <th>&lt;DTYYYYMMDD&gt;</th>\n",
              "      <th></th>\n",
              "      <th></th>\n",
              "      <th></th>\n",
              "      <th></th>\n",
              "      <th></th>\n",
              "      <th></th>\n",
              "    </tr>\n",
              "  </thead>\n",
              "  <tbody>\n",
              "    <tr>\n",
              "      <th>2024-12-18</th>\n",
              "      <td>7.7</td>\n",
              "      <td>7.9</td>\n",
              "      <td>7.6</td>\n",
              "      <td>7.6</td>\n",
              "      <td>7.6</td>\n",
              "      <td>863043</td>\n",
              "    </tr>\n",
              "    <tr>\n",
              "      <th>2024-12-17</th>\n",
              "      <td>7.7</td>\n",
              "      <td>7.8</td>\n",
              "      <td>7.5</td>\n",
              "      <td>7.6</td>\n",
              "      <td>7.6</td>\n",
              "      <td>515064</td>\n",
              "    </tr>\n",
              "    <tr>\n",
              "      <th>2024-12-16</th>\n",
              "      <td>7.6</td>\n",
              "      <td>7.7</td>\n",
              "      <td>7.5</td>\n",
              "      <td>7.6</td>\n",
              "      <td>7.6</td>\n",
              "      <td>449089</td>\n",
              "    </tr>\n",
              "    <tr>\n",
              "      <th>2024-12-13</th>\n",
              "      <td>7.6</td>\n",
              "      <td>7.8</td>\n",
              "      <td>7.4</td>\n",
              "      <td>7.6</td>\n",
              "      <td>7.6</td>\n",
              "      <td>715310</td>\n",
              "    </tr>\n",
              "    <tr>\n",
              "      <th>2024-12-12</th>\n",
              "      <td>7.9</td>\n",
              "      <td>7.9</td>\n",
              "      <td>7.6</td>\n",
              "      <td>7.6</td>\n",
              "      <td>7.6</td>\n",
              "      <td>622878</td>\n",
              "    </tr>\n",
              "  </tbody>\n",
              "</table>\n",
              "</div>\n",
              "    <div class=\"colab-df-buttons\">\n",
              "\n",
              "  <div class=\"colab-df-container\">\n",
              "    <button class=\"colab-df-convert\" onclick=\"convertToInteractive('df-a99441ce-7027-438a-8623-f432f058e218')\"\n",
              "            title=\"Convert this dataframe to an interactive table.\"\n",
              "            style=\"display:none;\">\n",
              "\n",
              "  <svg xmlns=\"http://www.w3.org/2000/svg\" height=\"24px\" viewBox=\"0 -960 960 960\">\n",
              "    <path d=\"M120-120v-720h720v720H120Zm60-500h600v-160H180v160Zm220 220h160v-160H400v160Zm0 220h160v-160H400v160ZM180-400h160v-160H180v160Zm440 0h160v-160H620v160ZM180-180h160v-160H180v160Zm440 0h160v-160H620v160Z\"/>\n",
              "  </svg>\n",
              "    </button>\n",
              "\n",
              "  <style>\n",
              "    .colab-df-container {\n",
              "      display:flex;\n",
              "      gap: 12px;\n",
              "    }\n",
              "\n",
              "    .colab-df-convert {\n",
              "      background-color: #E8F0FE;\n",
              "      border: none;\n",
              "      border-radius: 50%;\n",
              "      cursor: pointer;\n",
              "      display: none;\n",
              "      fill: #1967D2;\n",
              "      height: 32px;\n",
              "      padding: 0 0 0 0;\n",
              "      width: 32px;\n",
              "    }\n",
              "\n",
              "    .colab-df-convert:hover {\n",
              "      background-color: #E2EBFA;\n",
              "      box-shadow: 0px 1px 2px rgba(60, 64, 67, 0.3), 0px 1px 3px 1px rgba(60, 64, 67, 0.15);\n",
              "      fill: #174EA6;\n",
              "    }\n",
              "\n",
              "    .colab-df-buttons div {\n",
              "      margin-bottom: 4px;\n",
              "    }\n",
              "\n",
              "    [theme=dark] .colab-df-convert {\n",
              "      background-color: #3B4455;\n",
              "      fill: #D2E3FC;\n",
              "    }\n",
              "\n",
              "    [theme=dark] .colab-df-convert:hover {\n",
              "      background-color: #434B5C;\n",
              "      box-shadow: 0px 1px 3px 1px rgba(0, 0, 0, 0.15);\n",
              "      filter: drop-shadow(0px 1px 2px rgba(0, 0, 0, 0.3));\n",
              "      fill: #FFFFFF;\n",
              "    }\n",
              "  </style>\n",
              "\n",
              "    <script>\n",
              "      const buttonEl =\n",
              "        document.querySelector('#df-a99441ce-7027-438a-8623-f432f058e218 button.colab-df-convert');\n",
              "      buttonEl.style.display =\n",
              "        google.colab.kernel.accessAllowed ? 'block' : 'none';\n",
              "\n",
              "      async function convertToInteractive(key) {\n",
              "        const element = document.querySelector('#df-a99441ce-7027-438a-8623-f432f058e218');\n",
              "        const dataTable =\n",
              "          await google.colab.kernel.invokeFunction('convertToInteractive',\n",
              "                                                    [key], {});\n",
              "        if (!dataTable) return;\n",
              "\n",
              "        const docLinkHtml = 'Like what you see? Visit the ' +\n",
              "          '<a target=\"_blank\" href=https://colab.research.google.com/notebooks/data_table.ipynb>data table notebook</a>'\n",
              "          + ' to learn more about interactive tables.';\n",
              "        element.innerHTML = '';\n",
              "        dataTable['output_type'] = 'display_data';\n",
              "        await google.colab.output.renderOutput(dataTable, element);\n",
              "        const docLink = document.createElement('div');\n",
              "        docLink.innerHTML = docLinkHtml;\n",
              "        element.appendChild(docLink);\n",
              "      }\n",
              "    </script>\n",
              "  </div>\n",
              "\n",
              "\n",
              "<div id=\"df-8c95916f-3bc5-493e-b292-b8ccacbde049\">\n",
              "  <button class=\"colab-df-quickchart\" onclick=\"quickchart('df-8c95916f-3bc5-493e-b292-b8ccacbde049')\"\n",
              "            title=\"Suggest charts\"\n",
              "            style=\"display:none;\">\n",
              "\n",
              "<svg xmlns=\"http://www.w3.org/2000/svg\" height=\"24px\"viewBox=\"0 0 24 24\"\n",
              "     width=\"24px\">\n",
              "    <g>\n",
              "        <path d=\"M19 3H5c-1.1 0-2 .9-2 2v14c0 1.1.9 2 2 2h14c1.1 0 2-.9 2-2V5c0-1.1-.9-2-2-2zM9 17H7v-7h2v7zm4 0h-2V7h2v10zm4 0h-2v-4h2v4z\"/>\n",
              "    </g>\n",
              "</svg>\n",
              "  </button>\n",
              "\n",
              "<style>\n",
              "  .colab-df-quickchart {\n",
              "      --bg-color: #E8F0FE;\n",
              "      --fill-color: #1967D2;\n",
              "      --hover-bg-color: #E2EBFA;\n",
              "      --hover-fill-color: #174EA6;\n",
              "      --disabled-fill-color: #AAA;\n",
              "      --disabled-bg-color: #DDD;\n",
              "  }\n",
              "\n",
              "  [theme=dark] .colab-df-quickchart {\n",
              "      --bg-color: #3B4455;\n",
              "      --fill-color: #D2E3FC;\n",
              "      --hover-bg-color: #434B5C;\n",
              "      --hover-fill-color: #FFFFFF;\n",
              "      --disabled-bg-color: #3B4455;\n",
              "      --disabled-fill-color: #666;\n",
              "  }\n",
              "\n",
              "  .colab-df-quickchart {\n",
              "    background-color: var(--bg-color);\n",
              "    border: none;\n",
              "    border-radius: 50%;\n",
              "    cursor: pointer;\n",
              "    display: none;\n",
              "    fill: var(--fill-color);\n",
              "    height: 32px;\n",
              "    padding: 0;\n",
              "    width: 32px;\n",
              "  }\n",
              "\n",
              "  .colab-df-quickchart:hover {\n",
              "    background-color: var(--hover-bg-color);\n",
              "    box-shadow: 0 1px 2px rgba(60, 64, 67, 0.3), 0 1px 3px 1px rgba(60, 64, 67, 0.15);\n",
              "    fill: var(--button-hover-fill-color);\n",
              "  }\n",
              "\n",
              "  .colab-df-quickchart-complete:disabled,\n",
              "  .colab-df-quickchart-complete:disabled:hover {\n",
              "    background-color: var(--disabled-bg-color);\n",
              "    fill: var(--disabled-fill-color);\n",
              "    box-shadow: none;\n",
              "  }\n",
              "\n",
              "  .colab-df-spinner {\n",
              "    border: 2px solid var(--fill-color);\n",
              "    border-color: transparent;\n",
              "    border-bottom-color: var(--fill-color);\n",
              "    animation:\n",
              "      spin 1s steps(1) infinite;\n",
              "  }\n",
              "\n",
              "  @keyframes spin {\n",
              "    0% {\n",
              "      border-color: transparent;\n",
              "      border-bottom-color: var(--fill-color);\n",
              "      border-left-color: var(--fill-color);\n",
              "    }\n",
              "    20% {\n",
              "      border-color: transparent;\n",
              "      border-left-color: var(--fill-color);\n",
              "      border-top-color: var(--fill-color);\n",
              "    }\n",
              "    30% {\n",
              "      border-color: transparent;\n",
              "      border-left-color: var(--fill-color);\n",
              "      border-top-color: var(--fill-color);\n",
              "      border-right-color: var(--fill-color);\n",
              "    }\n",
              "    40% {\n",
              "      border-color: transparent;\n",
              "      border-right-color: var(--fill-color);\n",
              "      border-top-color: var(--fill-color);\n",
              "    }\n",
              "    60% {\n",
              "      border-color: transparent;\n",
              "      border-right-color: var(--fill-color);\n",
              "    }\n",
              "    80% {\n",
              "      border-color: transparent;\n",
              "      border-right-color: var(--fill-color);\n",
              "      border-bottom-color: var(--fill-color);\n",
              "    }\n",
              "    90% {\n",
              "      border-color: transparent;\n",
              "      border-bottom-color: var(--fill-color);\n",
              "    }\n",
              "  }\n",
              "</style>\n",
              "\n",
              "  <script>\n",
              "    async function quickchart(key) {\n",
              "      const quickchartButtonEl =\n",
              "        document.querySelector('#' + key + ' button');\n",
              "      quickchartButtonEl.disabled = true;  // To prevent multiple clicks.\n",
              "      quickchartButtonEl.classList.add('colab-df-spinner');\n",
              "      try {\n",
              "        const charts = await google.colab.kernel.invokeFunction(\n",
              "            'suggestCharts', [key], {});\n",
              "      } catch (error) {\n",
              "        console.error('Error during call to suggestCharts:', error);\n",
              "      }\n",
              "      quickchartButtonEl.classList.remove('colab-df-spinner');\n",
              "      quickchartButtonEl.classList.add('colab-df-quickchart-complete');\n",
              "    }\n",
              "    (() => {\n",
              "      let quickchartButtonEl =\n",
              "        document.querySelector('#df-8c95916f-3bc5-493e-b292-b8ccacbde049 button');\n",
              "      quickchartButtonEl.style.display =\n",
              "        google.colab.kernel.accessAllowed ? 'block' : 'none';\n",
              "    })();\n",
              "  </script>\n",
              "</div>\n",
              "\n",
              "    </div>\n",
              "  </div>\n"
            ],
            "application/vnd.google.colaboratory.intrinsic+json": {
              "type": "dataframe",
              "variable_name": "ticker_aav_dataset",
              "summary": "{\n  \"name\": \"ticker_aav_dataset\",\n  \"rows\": 1010,\n  \"fields\": [\n    {\n      \"column\": \"<DTYYYYMMDD>\",\n      \"properties\": {\n        \"dtype\": \"date\",\n        \"min\": \"2020-12-01 00:00:00\",\n        \"max\": \"2024-12-18 00:00:00\",\n        \"num_unique_values\": 1010,\n        \"samples\": [\n          \"2022-06-15 00:00:00\",\n          \"2021-10-21 00:00:00\",\n          \"2022-03-24 00:00:00\"\n        ],\n        \"semantic_type\": \"\",\n        \"description\": \"\"\n      }\n    },\n    {\n      \"column\": \"<Open>\",\n      \"properties\": {\n        \"dtype\": \"number\",\n        \"std\": 6.970911077971319,\n        \"min\": 2.6,\n        \"max\": 31.2083,\n        \"num_unique_values\": 310,\n        \"samples\": [\n          9.0742,\n          6.1,\n          9.4\n        ],\n        \"semantic_type\": \"\",\n        \"description\": \"\"\n      }\n    },\n    {\n      \"column\": \"<High>\",\n      \"properties\": {\n        \"dtype\": \"number\",\n        \"std\": 7.171707984275551,\n        \"min\": 3.0,\n        \"max\": 32.8508,\n        \"num_unique_values\": 313,\n        \"samples\": [\n          5.1,\n          6.2,\n          28.7928\n        ],\n        \"semantic_type\": \"\",\n        \"description\": \"\"\n      }\n    },\n    {\n      \"column\": \"<Low>\",\n      \"properties\": {\n        \"dtype\": \"number\",\n        \"std\": 6.78791159713889,\n        \"min\": 2.6,\n        \"max\": 29.9522,\n        \"num_unique_values\": 301,\n        \"samples\": [\n          26.0874,\n          11.7628,\n          16.4237\n        ],\n        \"semantic_type\": \"\",\n        \"description\": \"\"\n      }\n    },\n    {\n      \"column\": \"<Close>\",\n      \"properties\": {\n        \"dtype\": \"number\",\n        \"std\": 6.955391570491669,\n        \"min\": 2.8,\n        \"max\": 31.015,\n        \"num_unique_values\": 256,\n        \"samples\": [\n          11.0067,\n          6.6,\n          7.2465\n        ],\n        \"semantic_type\": \"\",\n        \"description\": \"\"\n      }\n    },\n    {\n      \"column\": \"<Adj Close>\",\n      \"properties\": {\n        \"dtype\": \"number\",\n        \"std\": 6.955391570491669,\n        \"min\": 2.8,\n        \"max\": 31.015,\n        \"num_unique_values\": 256,\n        \"samples\": [\n          11.0067,\n          6.6,\n          7.2465\n        ],\n        \"semantic_type\": \"\",\n        \"description\": \"\"\n      }\n    },\n    {\n      \"column\": \"<Volume>\",\n      \"properties\": {\n        \"dtype\": \"number\",\n        \"std\": 618897,\n        \"min\": 36665,\n        \"max\": 5704704,\n        \"num_unique_values\": 1007,\n        \"samples\": [\n          243700,\n          335738,\n          285499\n        ],\n        \"semantic_type\": \"\",\n        \"description\": \"\"\n      }\n    }\n  ]\n}"
            }
          },
          "metadata": {},
          "execution_count": 25
        }
      ],
      "source": [
        "# Fill the missing values with the last value available in the dataset.\n",
        "ticker_aav_dataset=ticker_aav_dataset.fillna(method='ffill')\n",
        "ticker_aav_dataset.head(5)"
      ]
    },
    {
      "cell_type": "markdown",
      "metadata": {
        "id": "k0beglCQYhTp"
      },
      "source": [
        "The parameters to clusters are the indices and the variables used in the clustering are the columns. Hence the data is in the right format to be fed to the clustering algorithms"
      ]
    },
    {
      "cell_type": "code",
      "source": [],
      "metadata": {
        "id": "SlTWFTUG7Zld"
      },
      "execution_count": 25,
      "outputs": []
    },
    {
      "cell_type": "markdown",
      "metadata": {
        "id": "zWEzxh0iYhTq"
      },
      "source": [
        "<a id='4'></a>\n",
        "# 5. Evaluate Algorithms and Models"
      ]
    },
    {
      "cell_type": "markdown",
      "metadata": {
        "id": "JHNiYOUGYhTq"
      },
      "source": [
        "<a id='5.1'></a>\n",
        "## 5.1. Train Test Split"
      ]
    },
    {
      "cell_type": "markdown",
      "metadata": {
        "id": "anjFuYlCYhTq"
      },
      "source": [
        "We will use 80% of the dataset for modeling\n",
        "and use 20% for testing."
      ]
    },
    {
      "cell_type": "code",
      "execution_count": 26,
      "metadata": {
        "id": "Ih1KjLvdYhTq"
      },
      "outputs": [],
      "source": [
        "X=list(ticker_aav_dataset[\"<Close>\"])\n",
        "X=[float(x) for x in X]"
      ]
    },
    {
      "cell_type": "code",
      "execution_count": 27,
      "metadata": {
        "id": "SW4o9fBuYhTq"
      },
      "outputs": [],
      "source": [
        "validation_size = 0.6\n",
        "#In case the data is not dependent on the time series, then train and test split should be done based on sequential sample\n",
        "#This can be done by selecting an arbitrary split point in the ordered list of observations and creating two new datasets.\n",
        "train_size = int(len(X) * (1-validation_size))\n",
        "X_train, X_test = X[0:train_size], X[train_size:len(X)]"
      ]
    },
    {
      "cell_type": "code",
      "source": [
        "len(X_train)"
      ],
      "metadata": {
        "id": "Nkd7DmR6Ge6C",
        "outputId": "80f421c7-7165-4cb7-fdda-81cf910ba9a3",
        "colab": {
          "base_uri": "https://localhost:8080/"
        }
      },
      "execution_count": null,
      "outputs": [
        {
          "output_type": "execute_result",
          "data": {
            "text/plain": [
              "808"
            ]
          },
          "metadata": {},
          "execution_count": 68
        }
      ]
    },
    {
      "cell_type": "code",
      "source": [],
      "metadata": {
        "id": "lv2B7jWsh3v9"
      },
      "execution_count": null,
      "outputs": []
    },
    {
      "cell_type": "markdown",
      "metadata": {
        "id": "PDqYx5vJYhTr"
      },
      "source": [
        "<a id='5.2'></a>\n",
        "## 5.2. Implementation steps and modules"
      ]
    },
    {
      "cell_type": "markdown",
      "metadata": {
        "id": "sGd9I8X1YhTr"
      },
      "source": [
        "Ta quan tâm việc tạo ra một **thực thể** mà tại đó nó có nhiệm vụ rằng quyết định liệu có nên **mua, bán hay giữ**, khi được cung cấp giá thị trường hiện tại (và được phép nhìn lại cả trạng thái thị trường trong quá khứ).\n",
        "\n",
        "Vói dữ liệu chứng khoán như thế này, chúng em xin phép bỏ qua các vấn đề phức tạp khác liên quan đến lĩnh vực tài chính nói chung, và tập trung vào chuyện nắm bắt các hình mẫu của thị trường từ đó để đưa ra các giao dịch. Với trường hợp cơ bản nhất, chúng em cho phép **thực thể** trên, mỗi ngày, được đưa ra 1 trong 3 quyết định bao gồm:\n",
        "\n",
        "\n",
        "1.   **Mua** : mua một đơn vị cổ phiếu\n",
        "2.   **Bán** : bán một đơn vị cổ phiểu (tính lời dựa trên vào ngày mua gần nhất và ngày bán hôm nay)\n",
        "3.   **Giữ** : không làm gì hết.\n",
        "\n",
        "Ta xem qua công thức Bellman chô Q-value:\n",
        "$$\n",
        "Q(s, a) = R(s, a) + \\gamma \\sum_{s'} P(s'|s, a) \\max_{a'} Q(s', a')$$\n",
        "\n",
        "1. **Q(s, a)** là Q-value, đại diện cho giá trị kỳ vọng của việc\n",
        "thực hiện hành động a trong trạng thái s.\n",
        "2. **R(s, a)** là phần thưởng tức thời nhận được sau khi thực hiện hành động a trong trạng thái s.\n",
        "3. **γ** là hệ số chiết khấu, xác định tầm quan trọng của phần thưởng trong tương lai so với phần thưởng hiện tại.\n",
        "4. **P(s'|s, a)** là xác suất chuyển đổi từ trạng thái s sang trạng thái s' khi thực hiện hành động a.\n",
        "5. **max Q(s', a')**là giá trị Q tối đa cho trạng thái tiếp theo s', được tính bằng cách chọn hành động a' tối ưu hóa Q-value.\n",
        "\n",
        "Còn dưới đây là một dạng đơn giản hơn của Bellman Equation:\n",
        "\n",
        "$$\n",
        "v(s) = \\max_a \\left[ R(s, a) + \\gamma \\sum_{s'} P(s'|s, a) v(s') \\right]\n",
        "$$\n",
        "\n",
        "Trong đó:\n",
        "\n",
        "*   $v(s)$: Hàm giá trị của trạng thái $s$.\n",
        "*   $\\max_a$: Tối đa hóa trên tất cả các hành động có thể $a$ trong trạng thái $s$.\n",
        "*   $R(s, a)$: Phần thưởng tức thời khi thực hiện hành động $a$ trong trạng thái $s$.\n",
        "*   $\\gamma$: Hệ số chiết khấu.\n",
        "*   $\\sum_{s'}$: Tổng trên tất cả các trạng thái tiếp theo có thể $s'$.\n",
        "*   $P(s'|s, a)$: Xác suất chuyển đổi từ trạng thái $s$ sang trạng thái $s'$ khi thực hiện hành động $a$.\n",
        "*   $v(s')$: Hàm giá trị của trạng thái tiếp theo $s'$.\n"
      ]
    },
    {
      "cell_type": "code",
      "source": [],
      "metadata": {
        "id": "w7WA1KXQpwNP"
      },
      "execution_count": null,
      "outputs": []
    },
    {
      "cell_type": "markdown",
      "source": [
        "Để triển khai thuật toán DQN này, nhiều hàm và mô-đun được triển khai và tương tác với nhau trong quá trình huấn luyện mô hình. Dưới đây là tổng quan về các mô-đun và hàm:\n",
        "\n",
        "1. **Lớp Agent**: Agent được định nghĩa là lớp “Agent”. Đối tượng của lớp “Agent” được tạo ra trong giai đoạn huấn luyện và được sử dụng để huấn luyện mô hình.\n",
        "2. **Các hàm hỗ trợ**: Trong mô-đun này, chúng em viết các hàm bỗ trợ để tiện trong việc xử lý: vd hàm sigmoid(), hàm getstate(), hàm act().  \n",
        "3. **Mô-đun huấn luyện**: Trong bước này, chúng em thực hiện huấn luyện dữ liệu bằng cách sử dụng các **thực thể** đưa ra một trong ba hành động (tức là mua, bán hoặc giữ) dựa trên các trạng thái của giá cổ phiếu vào cuối ngày. Trong quá trình huấn luyện, hành động được chỉ định cho mỗi ngày được đưa ra, sau đó phần thưởng được tính toán và các trọng số của mô hình Q-learning dựa trên deep-learning được cập nhật liên tục qua nhiều tập. Ngoài ra, lợi nhuận của mỗi hành động được tổng hợp để xem liệu đã có lợi nhuận tổng thể hay chưa. Mục tiêu là tối đa hóa **tổng lợi nhuận**.\n"
      ],
      "metadata": {
        "id": "xEtbWHZ5nV6e"
      }
    },
    {
      "cell_type": "markdown",
      "metadata": {
        "id": "bc0qM8UjYhTr"
      },
      "source": [
        "<a id='5.3'></a>\n",
        "## 5.3. Agent script"
      ]
    },
    {
      "cell_type": "markdown",
      "metadata": {
        "id": "ijcl42D4YhTr"
      },
      "source": [
        "The definition of the Agent script is the key step, as it consists of the In this section, we will train an agent that will perform reinforcement learning based on the Q-Learning. We will perform the following steps to achieve this:\n",
        "\n",
        "* Create an agent class whose initial function takes in the batch size, state size, and an evaluation Boolean function, to check whether the training is ongoing.\n",
        "* In the agent class, create the following methods:\n",
        "    * Constructor: The constructor inititalises all the parameters.\n",
        "    * Model : This f unction has a deep learning model to map the state to action.\n",
        "    * Act function :Returns an action, given a state, using the  output of the model function. The number of actions are defined as 3: sit, buy, sell\n",
        "    * expReplay : Create a Replay function that adds, samples, and evaluates a buffer. Add a new experience to the replay buffer memory. Randomly sample a batch of experienced tuples from the memory. In the following function, we randomly sample states from a memory buffer. Experience replay stores a history of state, action, reward, and next state transitions that are experienced by the agent. It randomly samples mini-batches from this experience to update the network weights at each time step before the agent selects an ε-greedy action.\n",
        "\n",
        "Experience replay increases sample efficiency, reduces the autocorrelation of samples that are collected during online learning, and limits the feedback due to the current weights producing training samples that can lead to local minima or divergence."
      ]
    },
    {
      "cell_type": "code",
      "execution_count": 49,
      "metadata": {
        "id": "oQLyXUwJYhTs"
      },
      "outputs": [],
      "source": [
        "import keras\n",
        "from keras.models import Sequential\n",
        "from keras.models import load_model\n",
        "from keras.layers import Dense\n",
        "from keras.optimizers import Adam\n",
        "from IPython.core.debugger import set_trace\n",
        "import time\n",
        "import numpy as np\n",
        "import random\n",
        "from collections import deque\n",
        "\n",
        "import tensorflow as tf\n",
        "tf.compat.v1.logging.set_verbosity(tf.compat.v1.logging.ERROR)\n",
        "\n",
        "class Agent:\n",
        "    def __init__(self, state_size, is_eval=False, model_name=\"\"):\n",
        "        #State size depends and is equal to the the window size, n previous days\n",
        "        self.state_size = state_size # normalized previous days,\n",
        "        self.action_size = 3 # sit, buy, sell\n",
        "        self.memory = deque(maxlen = 1000)\n",
        "        self.inventory = []\n",
        "        self.model_name = model_name\n",
        "        self.is_eval = is_eval\n",
        "\n",
        "        self.gamma = 0.95\n",
        "        self.epsilon = 1.0\n",
        "        self.epsilon_min = 0.01\n",
        "        self.epsilon_decay = 0.8989\n",
        "        #self.epsilon_decay = 0.9\n",
        "        #         <explore: lấy đại>     <exploit: vận dụng>\n",
        "        # random: ưu tiên       ưu tiên\n",
        "        # time: -------------------------------------------->\n",
        "        #self.model = self._model()\n",
        "        #       1 * 0.9 = 0.9        0.9*0.9 = 0.81         0.81**0.9 = 0.7xx  .....  0.01\n",
        "        # n = random(0,1):\n",
        "        # nếu n nằm trong (epsilon,1) thì exploit\n",
        "        # ngược  lại thì explore\n",
        "\n",
        "        # time: -------------------------------------------->\n",
        "\n",
        "        self.model = load_model(model_name) if is_eval else self._model()\n",
        "\n",
        "    #Deep Q Learning model- returns the q-value when given state as input\n",
        "    def _model(self):\n",
        "        model = Sequential()\n",
        "        #Input Layer\n",
        "        model.add(Dense(units=64, input_dim=self.state_size, activation=\"relu\"))\n",
        "        #Hidden Layers\n",
        "        model.add(Dense(units=32, activation=\"relu\"))\n",
        "        model.add(Dense(units=8, activation=\"relu\"))\n",
        "        #Output Layer\n",
        "        model.add(Dense(self.action_size, activation=\"linear\"))\n",
        "        model.compile(loss=\"mse\", optimizer=Adam(learning_rate=0.02))\n",
        "        return model\n",
        "\n",
        "    #Return the action on the value function\n",
        "    #With probability (1-$\\epsilon$) choose the action which has the highest Q-value.\n",
        "    #With probability ($\\epsilon$) choose any action at random.\n",
        "    #Intitially high epsilon-more random, later less\n",
        "    #The trained agents were evaluated by different initial random condition\n",
        "    #and an e-greedy policy with epsilon 0.05. This procedure is adopted to minimize the possibility of overfitting during evaluation.\n",
        "\n",
        "    def act(self, state):\n",
        "        #If it is test and self.epsilon is still very high, once the epsilon become low, there are no random\n",
        "        #actions suggested.\n",
        "        if not self.is_eval and random.random() <= self.epsilon:\n",
        "            return random.randrange(self.action_size)\n",
        "        options = self.model.predict(state, verbose =0)\n",
        "        #set_trace()\n",
        "        #action is based on the action that has the highest value from the q-value function.\n",
        "        return np.argmax(options[0])\n",
        "\n",
        "    def expReplay(self, batch_size):\n",
        "        mini_batch = []\n",
        "        l = len(self.memory)\n",
        "        for i in range(l - batch_size + 1, l):\n",
        "            mini_batch.append(self.memory[i])\n",
        "\n",
        "        # the memory during the training phase.\n",
        "        for state, action, reward, next_state, done in mini_batch:\n",
        "            # start_t = time.time()\n",
        "            target = reward # reward or Q at time t\n",
        "            #update the Q table based on Q table equation\n",
        "            #set_trace()\n",
        "            if not done:\n",
        "                #set_trace()\n",
        "                #max of the array of the predicted.\n",
        "                target = reward + self.gamma * np.amax(self.model.predict(next_state, verbose =0)[0])\n",
        "\n",
        "            # Q-value of the state currently from the table\n",
        "            target_f = self.model.predict(state, verbose =0)\n",
        "            # Update the output Q table for the given action in the table\n",
        "            target_f[0][action] = target\n",
        "            #train and fit the model where state is X and target_f is Y, where the target is updated.\n",
        "            self.model.fit(state, target_f, epochs=1, verbose=0)\n",
        "            # end_t = time.time()\n",
        "\n",
        "            # print(f\" \\n time {end_t - start_t}\")\n",
        "\n",
        "\n",
        "        if self.epsilon > self.epsilon_min:\n",
        "            self.epsilon *= self.epsilon_decay"
      ]
    },
    {
      "cell_type": "markdown",
      "metadata": {
        "id": "ZWrUGuSJYhTs"
      },
      "source": [
        "<a id='5.4'></a>\n",
        "## 5.4. Helper Functions"
      ]
    },
    {
      "cell_type": "markdown",
      "metadata": {
        "id": "woeAlGcyYhTs"
      },
      "source": [
        "In this script, we will create functions that will be helpful for training. We create the following functions:\n",
        "\n",
        "1) formatPrice:format the price to two decimal places, to reduce the ambiguity of the data:\n",
        "\n",
        "2) getStockData: Return a vector of stock data from the CSV file. Convert the closing stock prices from the data to vectors, and return a vector of all stock prices.\n",
        "\n",
        "3) getState: Define a function to generate states from the input vector. Create the time series by generating the states from the vectors created in the previous step. The function for this takes three parameters: the data; a time, t (the day that you want to predict); and a window (how many days to go back in time). The rate of change between these vectors will then be measured and based on the sigmoid function."
      ]
    },
    {
      "cell_type": "code",
      "execution_count": 29,
      "metadata": {
        "id": "bBGIiK9iYhTs"
      },
      "outputs": [],
      "source": [
        "import numpy as np\n",
        "import math\n",
        "\n",
        "# prints formatted price\n",
        "def formatPrice(n):\n",
        "    return (\"-$\" if n < 0 else \"$\") + \"{0:.2f}\".format(abs(n))\n",
        "\n",
        "def sigmoid(x):\n",
        "    return 1 / (1 + math.exp(-x))\n",
        "\n",
        "# returns an an n-day state representation ending at time t\n",
        "\n"
      ]
    },
    {
      "cell_type": "markdown",
      "metadata": {
        "id": "iXP8IyBfYhTt"
      },
      "source": [
        "<a id='5.5'></a>\n",
        "## 5.5. Training the data"
      ]
    },
    {
      "cell_type": "markdown",
      "metadata": {
        "id": "FYoTeOTiYhTy"
      },
      "source": [
        "We will proceed to train the data, based on our agent and helper methods. This will provide us with one of three actions, based on the states of the stock prices at the end of the day. These states can be to buy, sell, or hold. During training, the prescribed action for each day is predicted, and the price (profit, loss, or unchanged) of the action is calculated. The cumulative sum will be calculated at the end of the training period, and we will see whether there has been a profit or a loss. The aim is to maximize the total profit.\n",
        "\n",
        "Steps:\n",
        "* Define the number of market days to consider as the window size and define the batch size with which the neural network will be trained.\n",
        "* Instantiate the stock agent with the window size and batch size.\n",
        "* Read the training data from the CSV file, using the helper function.\n",
        "* The episode count is defined. The agent will look at the data for so many numbers of times. An episode represents a complete pass over the data.\n",
        "* We can start to iterate through the episodes.\n",
        "* Each episode has to be started with a state based on the data and window size. The inventory of stocks is initialized before going through the data.\n",
        "* **Start to iterate over every day of the stock data. The action probability is predicted by the agent**.\n",
        "* Next, every day of trading is iterated, and the agent can act upon the data. Every day, the agent decides an action. Based on the action, the stock is held, sold, or bought.\n",
        "* If the action is 1, then agent buys the stock.\n",
        "* If the action is 2, the agent sells the stocks and removes it from the inventory. Based on the sale, the profit (or loss) is calculated.\n",
        "\n",
        "* If the action is 0, then there is no trade. The state can be called holding during that period.\n",
        "* The details of the state, next state, action etc is saved in the memory of the agent object, which is used further by the exeReply function.       \n"
      ]
    },
    {
      "cell_type": "code",
      "source": [
        "import numpy as np\n",
        "import pandas as pd\n",
        "import matplotlib.pyplot as plt\n",
        "\n",
        "class TradingEnv:\n",
        "    def __init__(self, data, window_size, batch_size, episode_count, learning_interval, is_val = False):\n",
        "        self.data = data\n",
        "        self.window_size = window_size\n",
        "        self.batch_size = batch_size\n",
        "        self.episode_count = episode_count\n",
        "        self.learning_interval = learning_interval\n",
        "        self.agent = Agent(window_size)\n",
        "        self.state = None\n",
        "        self.total_profit = 0\n",
        "        self.inventory = []\n",
        "        self.states_sell = []\n",
        "        self.states_buy = []\n",
        "        self.memory = []\n",
        "        self.is_val = is_val\n",
        "\n",
        "    def reset(self):\n",
        "        self.state = self.getState(0, self.window_size + 1)\n",
        "        self.total_profit = 0\n",
        "        self.inventory = []\n",
        "        self.states_sell = []\n",
        "        self.states_buy = []\n",
        "        self.agent.memory = []\n",
        "\n",
        "\n",
        "    #lấy chênh lệch giá từ ngày t đến ngày t-n+1:\n",
        "    #nhìn lại n ngày trước đó\n",
        "    def getState(self, t, n):\n",
        "        d = t - n + 1\n",
        "        block = self.data[d:t + 1] if d >= 0 else -d * [self.data[0]] + self.data[0:t + 1] # pad with t0\n",
        "        #block is which is the for [1283.27002, 1283.27002]\n",
        "        res = []\n",
        "        # print(f\"n {n}   block {len(block)}\")\n",
        "        for i in range(n - 1):\n",
        "            res.append(sigmoid(block[i + 1] - block[i]))\n",
        "        return np.array([res])\n",
        "\n",
        "\n",
        "    \"\"\"\n",
        "    FOR EVERY STATE:\n",
        "        #1 đưa ra quyết định (mua, giữ, bán)\n",
        "          #2.1 nhận lấy state tiếp theo (độ chênh giá tính từ ngày mai)\n",
        "          #2.2 tính toán reward tương ứng cho hành động của mình\n",
        "        #3 cập nhật memory\n",
        "        #4 chuyển qua state tiếp theo\n",
        "        #5 Nếu như tới lúc để cập nhật lại thì gọi replay để cập nhật model\n",
        "        #5 trả về: (state sau đó, reward tương ứng, và ?đã hết dữ liệu chưa)\n",
        "\n",
        "    \"\"\"\n",
        "    def step(self, t):\n",
        "        action = self.agent.act(self.state)\n",
        "\n",
        "        if t != len(self.data) - 1:\n",
        "          next_state = self.getState(t + 1, self.window_size + 1)\n",
        "        else :\n",
        "          next_state = None\n",
        "\n",
        "        reward = 0\n",
        "\n",
        "        if action == 1:  # buy\n",
        "            self.inventory.append(self.data[t])\n",
        "            self.states_buy.append(t)\n",
        "\n",
        "        elif action == 2 and len(self.inventory) > 0:  # sell\n",
        "            bought_price = self.inventory.pop(0)\n",
        "            reward = max(self.data[t] - bought_price, 0)\n",
        "            self.total_profit += self.data[t] - bought_price\n",
        "            self.states_sell.append(t)\n",
        "\n",
        "        done = t == len(self.data) - 1\n",
        "\n",
        "        self.agent.memory.append((self.state, action, reward, next_state, done))\n",
        "        self.state = next_state\n",
        "\n",
        "        if (len(self.agent.memory) % self.learning_interval == 0) and (len(self.agent.memory) > 0):\n",
        "          if not self.is_val:\n",
        "            # print(f\" {len(self.agent.memory)}    {self.batch_size}\")\n",
        "            self.agent.expReplay(min(len(self.agent.memory), self.batch_size) )\n",
        "\n",
        "        return self.state, reward, done\n",
        "\n",
        "    \"\"\"\n",
        "    WORKFLOW:\n",
        "      #1 với từng episode: (tìm hiểu thêm về episode ?): train lập lại episode_count lần với cùng một weight của model\n",
        "        #2 dọn memory của models, dọn lại env\n",
        "        #3 Với từng ngày trôi quá:\n",
        "          #4 thực hiện công việc trong step (dưa ra action, nhận reward, chuyển trạng thái)\n",
        "          #5 in kết quả khi chạy xong dữ liệu\n",
        "        # save models mỗi 2 lần chạy xong episode\n",
        "\n",
        "    \"\"\"\n",
        "    def run(self,tracking = 1):\n",
        "        for e in range(self.episode_count + 1):\n",
        "            self.reset()\n",
        "            print(f\"{e}\")\n",
        "            for t in range(len(self.data)):\n",
        "                # print(f\"t {t} \")\n",
        "                progress_bar(t + 1, len(self.data))\n",
        "                state, reward, done = self.step(t)\n",
        "                if done and tracking:\n",
        "                    print(\"--------------------------------\")\n",
        "                    print(f\"Total Profit: {formatPrice(self.total_profit)}\")\n",
        "                    print(\"--------------------------------\")\n",
        "                    self.plot_behavior()\n",
        "                    break\n",
        "            if (e % 2 == 0) and (not is_val):\n",
        "                self.agent.model.save(f\"model_ep{e}.keras\")\n",
        "\n",
        "    def plot_behavior(self):\n",
        "        plt.figure(figsize=(10,5))\n",
        "        plt.plot(self.data, color='r', lw=2.)\n",
        "        plt.plot(self.data, 'v', markersize=10, color='m', label='Selling signal', markevery=self.states_sell)\n",
        "        plt.plot(self.data, '^', markersize=10, color='k', label='Buying signal', markevery=self.states_buy)\n",
        "        plt.title('Total gains: %f'%self.total_profit)\n",
        "        plt.legend()\n",
        "        plt.show()\n"
      ],
      "metadata": {
        "id": "zTO6aqhw4c8s"
      },
      "execution_count": 54,
      "outputs": []
    },
    {
      "cell_type": "code",
      "source": [
        "import time\n",
        "import sys\n",
        "\n",
        "def progress_bar(current, total, bar_length=20):\n",
        "    \"\"\"Hiển thị thanh trạng thái cho env.run.\n",
        "\n",
        "    Args:\n",
        "        current: Ngày hiện tại.\n",
        "        total: Tổng số ngày.\n",
        "        bar_length: Chiều dài của thanh trạng thái.\n",
        "    \"\"\"\n",
        "    percent = float(current) / total\n",
        "    arrow = '-' * int(round(percent * bar_length) - 1) + '>'\n",
        "    spaces = ' ' * (bar_length - len(arrow))\n",
        "\n",
        "    sys.stdout.write(f'\\rTiến trình: [{arrow}{spaces}] {int(round(percent * 100))}%\\t Ngày hiện tại: {current}')\n",
        "    sys.stdout.flush()\n",
        "\n",
        "    if current == total:\n",
        "        sys.stdout.write('\\n')\n",
        "        sys.stdout.flush()\n",
        "\n",
        "# ... (mã hiện tại của bạn)"
      ],
      "metadata": {
        "id": "UMvKLrYnc54B"
      },
      "execution_count": 31,
      "outputs": []
    },
    {
      "cell_type": "code",
      "source": [
        "data = X_train\n",
        "env = TradingEnv(data, window_size=5, batch_size=10, episode_count=5, learning_interval=1)\n",
        "env.run(tracking = 1)"
      ],
      "metadata": {
        "colab": {
          "base_uri": "https://localhost:8080/",
          "height": 1000
        },
        "id": "vVjcUQYUOyPT",
        "outputId": "bfb3a698-0ee6-4ce2-ffab-e9533b5b670d"
      },
      "execution_count": 32,
      "outputs": [
        {
          "output_type": "stream",
          "name": "stdout",
          "text": [
            "0\n",
            "Tiến trình: [------------------->] 100%\t Ngày hiện tại: 404\n",
            "--------------------------------\n",
            "Total Profit: -$1.70\n",
            "--------------------------------\n"
          ]
        },
        {
          "output_type": "display_data",
          "data": {
            "text/plain": [
              "<Figure size 1000x500 with 1 Axes>"
            ],
            "image/png": "[encoded data removed]"
          },
          "metadata": {}
        },
        {
          "output_type": "stream",
          "name": "stdout",
          "text": [
            "1\n",
            "Tiến trình: [------------------->] 100%\t Ngày hiện tại: 404\n",
            "--------------------------------\n",
            "Total Profit: $0.30\n",
            "--------------------------------\n"
          ]
        },
        {
          "output_type": "display_data",
          "data": {
            "text/plain": [
              "<Figure size 1000x500 with 1 Axes>"
            ],
            "image/png": "[encoded data removed]"
          },
          "metadata": {}
        },
        {
          "output_type": "stream",
          "name": "stdout",
          "text": [
            "2\n",
            "Tiến trình: [------------------->] 100%\t Ngày hiện tại: 404\n",
            "--------------------------------\n",
            "Total Profit: $2.10\n",
            "--------------------------------\n"
          ]
        },
        {
          "output_type": "display_data",
          "data": {
            "text/plain": [
              "<Figure size 1000x500 with 1 Axes>"
            ],
            "image/png": "[encoded data removed]"
          },
          "metadata": {}
        },
        {
          "output_type": "stream",
          "name": "stdout",
          "text": [
            "3\n",
            "Tiến trình: [------------------->] 100%\t Ngày hiện tại: 404\n",
            "--------------------------------\n",
            "Total Profit: -$3.30\n",
            "--------------------------------\n"
          ]
        },
        {
          "output_type": "display_data",
          "data": {
            "text/plain": [
              "<Figure size 1000x500 with 1 Axes>"
            ],
            "image/png": "[encoded data removed]"
          },
          "metadata": {}
        },
        {
          "output_type": "stream",
          "name": "stdout",
          "text": [
            "4\n",
            "Tiến trình: [------------------->] 100%\t Ngày hiện tại: 404\n",
            "--------------------------------\n",
            "Total Profit: $0.00\n",
            "--------------------------------\n"
          ]
        },
        {
          "output_type": "display_data",
          "data": {
            "text/plain": [
              "<Figure size 1000x500 with 1 Axes>"
            ],
            "image/png": "[encoded data removed]"
          },
          "metadata": {}
        },
        {
          "output_type": "stream",
          "name": "stdout",
          "text": [
            "5\n",
            "Tiến trình: [------------------->] 100%\t Ngày hiện tại: 404\n",
            "--------------------------------\n",
            "Total Profit: $0.10\n",
            "--------------------------------\n"
          ]
        },
        {
          "output_type": "display_data",
          "data": {
            "text/plain": [
              "<Figure size 1000x500 with 1 Axes>"
            ],
            "image/png": "[encoded data removed]"
          },
          "metadata": {}
        }
      ]
    },
    {
      "cell_type": "code",
      "execution_count": null,
      "metadata": {
        "id": "FnfmQiwgYhTy",
        "colab": {
          "base_uri": "https://localhost:8080/",
          "height": 274
        },
        "outputId": "09ea7de9-5276-4f30-a565-884dbc5f2a61"
      },
      "outputs": [
        {
          "output_type": "display_data",
          "data": {
            "text/plain": [
              "\u001b[1mModel: \"sequential_28\"\u001b[0m\n"
            ],
            "text/html": [
              "<pre style=\"white-space:pre;overflow-x:auto;line-height:normal;font-family:Menlo,'DejaVu Sans Mono',consolas,'Courier New',monospace\"><span style=\"font-weight: bold\">Model: \"sequential_28\"</span>\n",
              "</pre>\n"
            ]
          },
          "metadata": {}
        },
        {
          "output_type": "display_data",
          "data": {
            "text/plain": [
              "┏━━━━━━━━━━━━━━━━━━━━━━━━━━━━━━━━━━━━━━┳━━━━━━━━━━━━━━━━━━━━━━━━━━━━━┳━━━━━━━━━━━━━━━━━┓\n",
              "┃\u001b[1m \u001b[0m\u001b[1mLayer (type)                        \u001b[0m\u001b[1m \u001b[0m┃\u001b[1m \u001b[0m\u001b[1mOutput Shape               \u001b[0m\u001b[1m \u001b[0m┃\u001b[1m \u001b[0m\u001b[1m        Param #\u001b[0m\u001b[1m \u001b[0m┃\n",
              "┡━━━━━━━━━━━━━━━━━━━━━━━━━━━━━━━━━━━━━━╇━━━━━━━━━━━━━━━━━━━━━━━━━━━━━╇━━━━━━━━━━━━━━━━━┩\n",
              "│ dense_112 (\u001b[38;5;33mDense\u001b[0m)                    │ (\u001b[38;5;45mNone\u001b[0m, \u001b[38;5;34m64\u001b[0m)                  │             \u001b[38;5;34m704\u001b[0m │\n",
              "├──────────────────────────────────────┼─────────────────────────────┼─────────────────┤\n",
              "│ dense_113 (\u001b[38;5;33mDense\u001b[0m)                    │ (\u001b[38;5;45mNone\u001b[0m, \u001b[38;5;34m32\u001b[0m)                  │           \u001b[38;5;34m2,080\u001b[0m │\n",
              "├──────────────────────────────────────┼─────────────────────────────┼─────────────────┤\n",
              "│ dense_114 (\u001b[38;5;33mDense\u001b[0m)                    │ (\u001b[38;5;45mNone\u001b[0m, \u001b[38;5;34m8\u001b[0m)                   │             \u001b[38;5;34m264\u001b[0m │\n",
              "├──────────────────────────────────────┼─────────────────────────────┼─────────────────┤\n",
              "│ dense_115 (\u001b[38;5;33mDense\u001b[0m)                    │ (\u001b[38;5;45mNone\u001b[0m, \u001b[38;5;34m3\u001b[0m)                   │              \u001b[38;5;34m27\u001b[0m │\n",
              "└──────────────────────────────────────┴─────────────────────────────┴─────────────────┘\n"
            ],
            "text/html": [
              "<pre style=\"white-space:pre;overflow-x:auto;line-height:normal;font-family:Menlo,'DejaVu Sans Mono',consolas,'Courier New',monospace\">┏━━━━━━━━━━━━━━━━━━━━━━━━━━━━━━━━━━━━━━┳━━━━━━━━━━━━━━━━━━━━━━━━━━━━━┳━━━━━━━━━━━━━━━━━┓\n",
              "┃<span style=\"font-weight: bold\"> Layer (type)                         </span>┃<span style=\"font-weight: bold\"> Output Shape                </span>┃<span style=\"font-weight: bold\">         Param # </span>┃\n",
              "┡━━━━━━━━━━━━━━━━━━━━━━━━━━━━━━━━━━━━━━╇━━━━━━━━━━━━━━━━━━━━━━━━━━━━━╇━━━━━━━━━━━━━━━━━┩\n",
              "│ dense_112 (<span style=\"color: #0087ff; text-decoration-color: #0087ff\">Dense</span>)                    │ (<span style=\"color: #00d7ff; text-decoration-color: #00d7ff\">None</span>, <span style=\"color: #00af00; text-decoration-color: #00af00\">64</span>)                  │             <span style=\"color: #00af00; text-decoration-color: #00af00\">704</span> │\n",
              "├──────────────────────────────────────┼─────────────────────────────┼─────────────────┤\n",
              "│ dense_113 (<span style=\"color: #0087ff; text-decoration-color: #0087ff\">Dense</span>)                    │ (<span style=\"color: #00d7ff; text-decoration-color: #00d7ff\">None</span>, <span style=\"color: #00af00; text-decoration-color: #00af00\">32</span>)                  │           <span style=\"color: #00af00; text-decoration-color: #00af00\">2,080</span> │\n",
              "├──────────────────────────────────────┼─────────────────────────────┼─────────────────┤\n",
              "│ dense_114 (<span style=\"color: #0087ff; text-decoration-color: #0087ff\">Dense</span>)                    │ (<span style=\"color: #00d7ff; text-decoration-color: #00d7ff\">None</span>, <span style=\"color: #00af00; text-decoration-color: #00af00\">8</span>)                   │             <span style=\"color: #00af00; text-decoration-color: #00af00\">264</span> │\n",
              "├──────────────────────────────────────┼─────────────────────────────┼─────────────────┤\n",
              "│ dense_115 (<span style=\"color: #0087ff; text-decoration-color: #0087ff\">Dense</span>)                    │ (<span style=\"color: #00d7ff; text-decoration-color: #00d7ff\">None</span>, <span style=\"color: #00af00; text-decoration-color: #00af00\">3</span>)                   │              <span style=\"color: #00af00; text-decoration-color: #00af00\">27</span> │\n",
              "└──────────────────────────────────────┴─────────────────────────────┴─────────────────┘\n",
              "</pre>\n"
            ]
          },
          "metadata": {}
        },
        {
          "output_type": "display_data",
          "data": {
            "text/plain": [
              "\u001b[1m Total params: \u001b[0m\u001b[38;5;34m3,075\u001b[0m (12.01 KB)\n"
            ],
            "text/html": [
              "<pre style=\"white-space:pre;overflow-x:auto;line-height:normal;font-family:Menlo,'DejaVu Sans Mono',consolas,'Courier New',monospace\"><span style=\"font-weight: bold\"> Total params: </span><span style=\"color: #00af00; text-decoration-color: #00af00\">3,075</span> (12.01 KB)\n",
              "</pre>\n"
            ]
          },
          "metadata": {}
        },
        {
          "output_type": "display_data",
          "data": {
            "text/plain": [
              "\u001b[1m Trainable params: \u001b[0m\u001b[38;5;34m3,075\u001b[0m (12.01 KB)\n"
            ],
            "text/html": [
              "<pre style=\"white-space:pre;overflow-x:auto;line-height:normal;font-family:Menlo,'DejaVu Sans Mono',consolas,'Courier New',monospace\"><span style=\"font-weight: bold\"> Trainable params: </span><span style=\"color: #00af00; text-decoration-color: #00af00\">3,075</span> (12.01 KB)\n",
              "</pre>\n"
            ]
          },
          "metadata": {}
        },
        {
          "output_type": "display_data",
          "data": {
            "text/plain": [
              "\u001b[1m Non-trainable params: \u001b[0m\u001b[38;5;34m0\u001b[0m (0.00 B)\n"
            ],
            "text/html": [
              "<pre style=\"white-space:pre;overflow-x:auto;line-height:normal;font-family:Menlo,'DejaVu Sans Mono',consolas,'Courier New',monospace\"><span style=\"font-weight: bold\"> Non-trainable params: </span><span style=\"color: #00af00; text-decoration-color: #00af00\">0</span> (0.00 B)\n",
              "</pre>\n"
            ]
          },
          "metadata": {}
        },
        {
          "output_type": "stream",
          "name": "stdout",
          "text": [
            "None\n"
          ]
        }
      ],
      "source": [
        "#Deep Q-Learning Model\n",
        "print(env.agent.model.summary())"
      ]
    },
    {
      "cell_type": "markdown",
      "metadata": {
        "id": "Sll5MohyYhTz"
      },
      "source": [
        "<a id='6'></a>\n",
        "# 6. Testing the Data"
      ]
    },
    {
      "cell_type": "markdown",
      "metadata": {
        "id": "H7c9GGJNYhTz"
      },
      "source": [
        "After training the data, it is tested it against the test dataset. Our model resulted in a overall profit. The best thing about the model was that the profits kept improving over time, indicating that it was learning well and taking better actions."
      ]
    },
    {
      "cell_type": "code",
      "execution_count": 51,
      "metadata": {
        "id": "TIyBPiExYhT1"
      },
      "outputs": [],
      "source": [
        "def test_agent(test_data, window_size, episode_count):\n",
        "    \"\"\"Kiểm tra hiệu suất của agent trên dữ liệu kiểm tra.\n",
        "\n",
        "    Args:\n",
        "        test_data: Dữ liệu kiểm tra.\n",
        "        window_size: Kích thước cửa sổ cho trạng thái.\n",
        "        episode_count: Số lượng episode đã huấn luyện.\n",
        "\n",
        "    Returns:\n",
        "        total_profit: Tổng lợi nhuận thu được.\n",
        "        states_buy_test: Danh sách các trạng thái mua.\n",
        "        states_sell_test: Danh sách các trạng thái bán.\n",
        "    \"\"\"\n",
        "    env = TradingEnv(test_data,\n",
        "                     window_size,\n",
        "                     batch_size=10,\n",
        "                     episode_count=1,\n",
        "                     learning_interval=1,\n",
        "                     is_val=True)  # Sử dụng TradingEnv để quản lý môi trường\n",
        "    env.reset()  # Khởi tạo môi trường\n",
        "    env.agent.model = load_model(f\"model_ep{episode_count}.keras\")  # Nạp model đã được huấn luyện\n",
        "    env.agent.is_eval = True\n",
        "\n",
        "    for t in range(len(test_data)):\n",
        "        progress_bar(t + 1, len(test_data))  # Hiển thị thanh trạng thái\n",
        "        state, reward, done = env.step(t)  # Thực hiện bước mô phỏng\n",
        "        if done:\n",
        "            print(\"------------------------------------------\")\n",
        "            print(\"Total Profit: \" + formatPrice(env.total_profit))\n",
        "            print(\"------------------------------------------\")\n",
        "            env.plot_behavior()  # Vẽ biểu đồ hành vi\n",
        "            break\n",
        "\n",
        "    return env.total_profit, env.states_buy, env.states_sell  # Trả về kết quả"
      ]
    },
    {
      "cell_type": "code",
      "source": [
        "data = X_test\n",
        "test_agent(data, window_size=5, episode_count=4)"
      ],
      "metadata": {
        "id": "bAMfCSIXlxxl",
        "outputId": "cc88a82f-63cc-4aef-ea4a-5e5e92e61bd5",
        "colab": {
          "base_uri": "https://localhost:8080/",
          "height": 559
        }
      },
      "execution_count": 55,
      "outputs": [
        {
          "output_type": "stream",
          "name": "stdout",
          "text": [
            "Tiến trình: [------------------->] 100%\t Ngày hiện tại: 606\n",
            "------------------------------------------\n",
            "Total Profit: $0.00\n",
            "------------------------------------------\n"
          ]
        },
        {
          "output_type": "display_data",
          "data": {
            "text/plain": [
              "<Figure size 1000x500 with 1 Axes>"
            ],
            "image/png": "[encoded data removed]"
          },
          "metadata": {}
        },
        {
          "output_type": "execute_result",
          "data": {
            "text/plain": [
              "(0, [], [])"
            ]
          },
          "metadata": {},
          "execution_count": 55
        }
      ]
    },
    {
      "cell_type": "markdown",
      "metadata": {
        "id": "_zoDh8B7YhT1"
      },
      "source": [
        "Looking at the results above, our model resulted in an overall profit of $1280, and we can say that our DQN agent performs quite well on the test set. However, the performance of the model can be further improved by optimizing the hyperparameters as discussed in the model tuning section before. Also, given high complexity and low interpretability of the model, ideally there should be more tests conducted on different time periods before deploying the model for live trading."
      ]
    },
    {
      "cell_type": "markdown",
      "metadata": {
        "id": "4uAPmYU1YhT1"
      },
      "source": [
        "**Conclusion**\n",
        "\n",
        "We observed that we don’t have to decide the strategy or policy\n",
        "for trading. The algorithm decides the policy by itself, and the overall approach is\n",
        "much simpler and more principled than the supervised learning-based approach.\n",
        "\n",
        "The\n",
        "policy can be parameterized by a complex model, such as a deep neural network, and\n",
        "we can learn policies that are more complex and powerful than any rules a human\n",
        "trader.\n",
        "\n",
        "We used the testing set to evaluate the model and found an overall profit in the test set."
      ]
    }
  ],
  "metadata": {
    "_change_revision": 206,
    "_is_fork": false,
    "kernelspec": {
      "display_name": "Python 3",
      "name": "python3"
    },
    "language_info": {
      "codemirror_mode": {
        "name": "ipython",
        "version": 3
      },
      "file_extension": ".py",
      "mimetype": "text/x-python",
      "name": "python",
      "nbconvert_exporter": "python",
      "pygments_lexer": "ipython3",
      "version": "3.7.3"
    },
    "colab": {
      "provenance": [],
      "gpuType": "T4"
    },
    "accelerator": "GPU"
  },
  "nbformat": 4,
  "nbformat_minor": 0
}