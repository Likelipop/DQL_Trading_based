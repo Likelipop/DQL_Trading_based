{
  "nbformat": 4,
  "nbformat_minor": 0,
  "metadata": {
    "colab": {
      "provenance": [],
      "authorship_tag": "ABX9TyNftfjoeqieF00WPhPhctyr",
      "include_colab_link": true
    },
    "kernelspec": {
      "name": "python3",
      "display_name": "Python 3"
    },
    "language_info": {
      "name": "python"
    }
  },
  "cells": [
    {
      "cell_type": "markdown",
      "metadata": {
        "id": "view-in-github",
        "colab_type": "text"
      },
      "source": [
        "<a href=\"https://colab.research.google.com/github/Likelipop/DQL_Trading_based/blob/main/new_code.ipynb\" target=\"_parent\"><img src=\"https://colab.research.google.com/assets/colab-badge.svg\" alt=\"Open In Colab\"/></a>"
      ]
    },
    {
      "cell_type": "markdown",
      "source": [
        "#Load Library"
      ],
      "metadata": {
        "id": "LlYhrnXCAkK2"
      }
    },
    {
      "cell_type": "code",
      "source": [
        "import os\n",
        "import json\n",
        "from keras.models import Sequential\n",
        "from keras.layers import Dense, Flatten\n",
        "from rl.agents.dqn import DQNAgent\n",
        "from rl.policy import BoltzmannQPolicy\n",
        "from rl.memory import SequentialMemory"
      ],
      "metadata": {
        "id": "QPRp1lUm-xNJ"
      },
      "execution_count": null,
      "outputs": []
    },
    {
      "cell_type": "markdown",
      "source": [
        "#Load data"
      ],
      "metadata": {
        "id": "2vfSUrWvAn20"
      }
    },
    {
      "cell_type": "code",
      "source": [
        "import yfinance as yf\n",
        "\n",
        "# Tải dữ liệu cổ phiếu (ví dụ: AAPL)\n",
        "df = yf.download(\"AAPL\", start=\"2020-01-01\", end=\"2023-01-01\")\n",
        "df['MA'] = df['Close'].rolling(window=20).mean()\n",
        "df['Volume'] = df['Volume']\n",
        "data = df[['Close', 'MA', 'Volume']].dropna().reset_index(drop=True)\n"
      ],
      "metadata": {
        "id": "2Y0Xf31I_RyZ"
      },
      "execution_count": null,
      "outputs": []
    },
    {
      "cell_type": "markdown",
      "source": [
        "#Def Enviroment"
      ],
      "metadata": {
        "id": "yH7wfsaLAqX1"
      }
    },
    {
      "cell_type": "code",
      "source": [
        "import gym\n",
        "from gym import spaces\n",
        "import numpy as np\n",
        "import pandas as pd\n",
        "\n",
        "class StockTradingEnv(gym.Env):\n",
        "    def __init__(self, df):\n",
        "        super(StockTradingEnv, self).__init__()\n",
        "        self.df = df\n",
        "        self.current_step = 0\n",
        "\n",
        "        # Giá trị khởi tạo\n",
        "        self.cash = 10000  # Số tiền mặt ban đầu\n",
        "        self.shares_held = 0\n",
        "        self.portfolio_value = self.cash\n",
        "        self.action_space = spaces.Discrete(3)  # 0: Hold, 1: Buy, 2: Sell\n",
        "        self.observation_space = spaces.Box(low=-np.inf, high=np.inf, shape=(5,))\n",
        "\n",
        "    def reset(self):\n",
        "        self.current_step = 0\n",
        "        self.cash = 10000\n",
        "        self.shares_held = 0\n",
        "        self.portfolio_value = self.cash\n",
        "        return self._next_observation()\n",
        "\n",
        "    def _next_observation(self):\n",
        "        frame = np.array([\n",
        "            self.df.iloc[self.current_step, 0],  # Giá hiện tại\n",
        "            self.df.iloc[self.current_step, 1],  # Giá trị trung bình\n",
        "            self.df.iloc[self.current_step, 2],  # Khối lượng\n",
        "            self.cash,\n",
        "            self.shares_held\n",
        "        ])\n",
        "        return frame\n",
        "\n",
        "    def step(self, action):\n",
        "        current_price = self.df.iloc[self.current_step, 0]\n",
        "        self.current_step += 1\n",
        "\n",
        "        # Xử lý hành động\n",
        "        if action == 1:  # Mua\n",
        "            num_shares = self.cash // current_price\n",
        "            self.cash -= num_shares * current_price\n",
        "            self.shares_held += num_shares\n",
        "        elif action == 2:  # Bán\n",
        "            self.cash += self.shares_held * current_price\n",
        "            self.shares_held = 0\n",
        "\n",
        "        # Tính giá trị danh mục\n",
        "        self.portfolio_value = self.cash + self.shares_held * current_price\n",
        "        reward = self.portfolio_value\n",
        "\n",
        "        # Kiểm tra trạng thái kết thúc\n",
        "        done = self.current_step >= len(self.df) - 1\n",
        "        return self._next_observation(), reward, done, {}\n",
        "\n",
        "    def render(self, mode='human'):\n",
        "        print(f'Step: {self.current_step}')\n",
        "        print(f'Portfolio Value: {self.portfolio_value}')\n"
      ],
      "metadata": {
        "id": "k_0GdjYU_PKs"
      },
      "execution_count": null,
      "outputs": []
    },
    {
      "cell_type": "code",
      "source": [
        "# Đường dẫn file\n",
        "save_path = \"dqn_weights.h5\"\n",
        "state_path = \"training_state.json\"\n",
        "\n",
        "# Load trạng thái tập huấn\n",
        "if os.path.exists(state_path):\n",
        "    with open(state_path, \"r\") as f:\n",
        "        state = json.load(f)\n",
        "        start_episode = state.get(\"current_episode\", 0)\n",
        "else:\n",
        "    start_episode = 0"
      ],
      "metadata": {
        "id": "j5QZFH8s-0BF"
      },
      "execution_count": null,
      "outputs": []
    },
    {
      "cell_type": "code",
      "execution_count": null,
      "metadata": {
        "id": "Y6ZCB_qD-u2B"
      },
      "outputs": [],
      "source": [
        "# Xây dựng mô hình\n",
        "def build_model(input_shape, action_space):\n",
        "    model = Sequential()\n",
        "    model.add(Flatten(input_shape=(1,) + input_shape))\n",
        "    model.add(Dense(64, activation='relu'))\n",
        "    model.add(Dense(32, activation='relu'))\n",
        "    model.add(Dense(action_space, activation='linear'))\n",
        "    return model\n",
        "\n",
        "# Khởi tạo môi trường và mô hình\n",
        "env = StockTradingEnv(data)\n",
        "model = build_model(env.observation_space.shape, env.action_space.n)\n",
        "\n",
        "# Cài đặt DQN Agent\n",
        "memory = SequentialMemory(limit=50000, window_length=1)\n",
        "policy = BoltzmannQPolicy()\n",
        "dqn = DQNAgent(model=model, nb_actions=env.action_space.n, memory=memory, nb_steps_warmup=10, target_model_update=1e-2, policy=policy)\n",
        "dqn.compile(optimizer='adam', metrics=['mae'])\n",
        "\n",
        "# Load trọng số nếu có\n",
        "if os.path.exists(save_path):\n",
        "    print(\"Đang tải mô hình đã lưu...\")\n",
        "    dqn.load_weights(save_path)\n",
        "    print(\"Mô hình đã được tải!\")\n"
      ]
    },
    {
      "cell_type": "code",
      "source": [
        "# Tiếp tục huấn luyện\n",
        "total_episodes = 100\n",
        "steps_per_episode = 200\n",
        "for episode in range(start_episode, total_episodes):\n",
        "    print(f\"Episode {episode + 1}/{total_episodes}\")\n",
        "\n",
        "    # Huấn luyện\n",
        "    dqn.fit(env, nb_steps=steps_per_episode, verbose=1)\n",
        "\n",
        "    # Lưu trọng số\n",
        "    dqn.save_weights(save_path, overwrite=True)\n",
        "    print(f\"Đã lưu mô hình sau Episode {episode + 1}\")\n",
        "\n",
        "    # Lưu trạng thái episode\n",
        "    state = {\"current_episode\": episode + 1}\n",
        "    with open(state_path, \"w\") as f:\n",
        "        json.dump(state, f)"
      ],
      "metadata": {
        "id": "0ND2IYqr-9dE"
      },
      "execution_count": null,
      "outputs": []
    }
  ]
}